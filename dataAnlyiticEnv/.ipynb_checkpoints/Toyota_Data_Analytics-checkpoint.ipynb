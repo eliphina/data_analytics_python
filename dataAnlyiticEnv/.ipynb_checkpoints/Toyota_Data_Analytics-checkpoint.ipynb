{
 "cells": [
  {
   "cell_type": "markdown",
   "id": "384fdd0a-af58-4f2a-a0c5-ed49bd11cf74",
   "metadata": {},
   "source": [
    "## Importing Libraries"
   ]
  },
  {
   "cell_type": "code",
   "execution_count": 1,
   "id": "4272a924-a31c-45a0-83cd-32e759930ccb",
   "metadata": {},
   "outputs": [],
   "source": [
    "## loading and preprocessing data\n",
    "import numpy as np\n",
    "import pandas as pd\n",
    "## data visualization\n",
    "import matplotlib.pyplot as plt"
   ]
  },
  {
   "cell_type": "markdown",
   "id": "70246104-f147-4aed-a482-e1a6e986fb79",
   "metadata": {},
   "source": [
    "## Loading And Creating a Copy of data"
   ]
  },
  {
   "cell_type": "code",
   "execution_count": 2,
   "id": "c86db8d0-7b47-4b18-aa00-d24a3959f2b2",
   "metadata": {},
   "outputs": [],
   "source": [
    "toyota_data = pd.read_csv(\"Datasets/Toyota.csv\")"
   ]
  },
  {
   "cell_type": "code",
   "execution_count": 3,
   "id": "7c487efe-bd91-4c42-949e-dd9ecd0d71e9",
   "metadata": {},
   "outputs": [],
   "source": [
    "## Creating a Copy\n",
    "toyota_df = toyota_data.copy()"
   ]
  },
  {
   "cell_type": "markdown",
   "id": "707113e2-2679-4477-81ea-3d65d9389da2",
   "metadata": {},
   "source": [
    "## Overviewing And Understanding The Toyota Dataframe"
   ]
  },
  {
   "cell_type": "code",
   "execution_count": 4,
   "id": "30893b17-0eba-490e-88da-a4d38fd42bfd",
   "metadata": {},
   "outputs": [
    {
     "data": {
      "text/html": [
       "<div>\n",
       "<style scoped>\n",
       "    .dataframe tbody tr th:only-of-type {\n",
       "        vertical-align: middle;\n",
       "    }\n",
       "\n",
       "    .dataframe tbody tr th {\n",
       "        vertical-align: top;\n",
       "    }\n",
       "\n",
       "    .dataframe thead th {\n",
       "        text-align: right;\n",
       "    }\n",
       "</style>\n",
       "<table border=\"1\" class=\"dataframe\">\n",
       "  <thead>\n",
       "    <tr style=\"text-align: right;\">\n",
       "      <th></th>\n",
       "      <th>Unnamed: 0</th>\n",
       "      <th>Price</th>\n",
       "      <th>Age</th>\n",
       "      <th>KM</th>\n",
       "      <th>FuelType</th>\n",
       "      <th>HP</th>\n",
       "      <th>MetColor</th>\n",
       "      <th>Automatic</th>\n",
       "      <th>CC</th>\n",
       "      <th>Doors</th>\n",
       "      <th>Weight</th>\n",
       "    </tr>\n",
       "  </thead>\n",
       "  <tbody>\n",
       "    <tr>\n",
       "      <th>0</th>\n",
       "      <td>0</td>\n",
       "      <td>13500</td>\n",
       "      <td>23.0</td>\n",
       "      <td>46986</td>\n",
       "      <td>Diesel</td>\n",
       "      <td>90</td>\n",
       "      <td>1.0</td>\n",
       "      <td>0</td>\n",
       "      <td>2000</td>\n",
       "      <td>three</td>\n",
       "      <td>1165</td>\n",
       "    </tr>\n",
       "    <tr>\n",
       "      <th>1</th>\n",
       "      <td>1</td>\n",
       "      <td>13750</td>\n",
       "      <td>23.0</td>\n",
       "      <td>72937</td>\n",
       "      <td>Diesel</td>\n",
       "      <td>90</td>\n",
       "      <td>1.0</td>\n",
       "      <td>0</td>\n",
       "      <td>2000</td>\n",
       "      <td>3</td>\n",
       "      <td>1165</td>\n",
       "    </tr>\n",
       "    <tr>\n",
       "      <th>2</th>\n",
       "      <td>2</td>\n",
       "      <td>13950</td>\n",
       "      <td>24.0</td>\n",
       "      <td>41711</td>\n",
       "      <td>Diesel</td>\n",
       "      <td>90</td>\n",
       "      <td>NaN</td>\n",
       "      <td>0</td>\n",
       "      <td>2000</td>\n",
       "      <td>3</td>\n",
       "      <td>1165</td>\n",
       "    </tr>\n",
       "    <tr>\n",
       "      <th>3</th>\n",
       "      <td>3</td>\n",
       "      <td>14950</td>\n",
       "      <td>26.0</td>\n",
       "      <td>48000</td>\n",
       "      <td>Diesel</td>\n",
       "      <td>90</td>\n",
       "      <td>0.0</td>\n",
       "      <td>0</td>\n",
       "      <td>2000</td>\n",
       "      <td>3</td>\n",
       "      <td>1165</td>\n",
       "    </tr>\n",
       "    <tr>\n",
       "      <th>4</th>\n",
       "      <td>4</td>\n",
       "      <td>13750</td>\n",
       "      <td>30.0</td>\n",
       "      <td>38500</td>\n",
       "      <td>Diesel</td>\n",
       "      <td>90</td>\n",
       "      <td>0.0</td>\n",
       "      <td>0</td>\n",
       "      <td>2000</td>\n",
       "      <td>3</td>\n",
       "      <td>1170</td>\n",
       "    </tr>\n",
       "  </tbody>\n",
       "</table>\n",
       "</div>"
      ],
      "text/plain": [
       "   Unnamed: 0  Price   Age     KM FuelType  HP  MetColor  Automatic    CC  \\\n",
       "0           0  13500  23.0  46986   Diesel  90       1.0          0  2000   \n",
       "1           1  13750  23.0  72937   Diesel  90       1.0          0  2000   \n",
       "2           2  13950  24.0  41711   Diesel  90       NaN          0  2000   \n",
       "3           3  14950  26.0  48000   Diesel  90       0.0          0  2000   \n",
       "4           4  13750  30.0  38500   Diesel  90       0.0          0  2000   \n",
       "\n",
       "   Doors  Weight  \n",
       "0  three    1165  \n",
       "1      3    1165  \n",
       "2      3    1165  \n",
       "3      3    1165  \n",
       "4      3    1170  "
      ]
     },
     "execution_count": 4,
     "metadata": {},
     "output_type": "execute_result"
    }
   ],
   "source": [
    "## lets see the first five rows\n",
    "toyota_df.head()"
   ]
  },
  {
   "cell_type": "code",
   "execution_count": 5,
   "id": "f57b60ce-6b0d-439b-95ae-f1d1428d31e9",
   "metadata": {},
   "outputs": [
    {
     "data": {
      "text/html": [
       "<div>\n",
       "<style scoped>\n",
       "    .dataframe tbody tr th:only-of-type {\n",
       "        vertical-align: middle;\n",
       "    }\n",
       "\n",
       "    .dataframe tbody tr th {\n",
       "        vertical-align: top;\n",
       "    }\n",
       "\n",
       "    .dataframe thead th {\n",
       "        text-align: right;\n",
       "    }\n",
       "</style>\n",
       "<table border=\"1\" class=\"dataframe\">\n",
       "  <thead>\n",
       "    <tr style=\"text-align: right;\">\n",
       "      <th></th>\n",
       "      <th>Unnamed: 0</th>\n",
       "      <th>Price</th>\n",
       "      <th>Age</th>\n",
       "      <th>KM</th>\n",
       "      <th>FuelType</th>\n",
       "      <th>HP</th>\n",
       "      <th>MetColor</th>\n",
       "      <th>Automatic</th>\n",
       "      <th>CC</th>\n",
       "      <th>Doors</th>\n",
       "      <th>Weight</th>\n",
       "    </tr>\n",
       "  </thead>\n",
       "  <tbody>\n",
       "    <tr>\n",
       "      <th>1431</th>\n",
       "      <td>1431</td>\n",
       "      <td>7500</td>\n",
       "      <td>NaN</td>\n",
       "      <td>20544</td>\n",
       "      <td>Petrol</td>\n",
       "      <td>86</td>\n",
       "      <td>1.0</td>\n",
       "      <td>0</td>\n",
       "      <td>1300</td>\n",
       "      <td>3</td>\n",
       "      <td>1025</td>\n",
       "    </tr>\n",
       "    <tr>\n",
       "      <th>1432</th>\n",
       "      <td>1432</td>\n",
       "      <td>10845</td>\n",
       "      <td>72.0</td>\n",
       "      <td>??</td>\n",
       "      <td>Petrol</td>\n",
       "      <td>86</td>\n",
       "      <td>0.0</td>\n",
       "      <td>0</td>\n",
       "      <td>1300</td>\n",
       "      <td>3</td>\n",
       "      <td>1015</td>\n",
       "    </tr>\n",
       "    <tr>\n",
       "      <th>1433</th>\n",
       "      <td>1433</td>\n",
       "      <td>8500</td>\n",
       "      <td>NaN</td>\n",
       "      <td>17016</td>\n",
       "      <td>Petrol</td>\n",
       "      <td>86</td>\n",
       "      <td>0.0</td>\n",
       "      <td>0</td>\n",
       "      <td>1300</td>\n",
       "      <td>3</td>\n",
       "      <td>1015</td>\n",
       "    </tr>\n",
       "    <tr>\n",
       "      <th>1434</th>\n",
       "      <td>1434</td>\n",
       "      <td>7250</td>\n",
       "      <td>70.0</td>\n",
       "      <td>??</td>\n",
       "      <td>NaN</td>\n",
       "      <td>86</td>\n",
       "      <td>1.0</td>\n",
       "      <td>0</td>\n",
       "      <td>1300</td>\n",
       "      <td>3</td>\n",
       "      <td>1015</td>\n",
       "    </tr>\n",
       "    <tr>\n",
       "      <th>1435</th>\n",
       "      <td>1435</td>\n",
       "      <td>6950</td>\n",
       "      <td>76.0</td>\n",
       "      <td>1</td>\n",
       "      <td>Petrol</td>\n",
       "      <td>110</td>\n",
       "      <td>0.0</td>\n",
       "      <td>0</td>\n",
       "      <td>1600</td>\n",
       "      <td>5</td>\n",
       "      <td>1114</td>\n",
       "    </tr>\n",
       "  </tbody>\n",
       "</table>\n",
       "</div>"
      ],
      "text/plain": [
       "      Unnamed: 0  Price   Age     KM FuelType   HP  MetColor  Automatic    CC  \\\n",
       "1431        1431   7500   NaN  20544   Petrol   86       1.0          0  1300   \n",
       "1432        1432  10845  72.0     ??   Petrol   86       0.0          0  1300   \n",
       "1433        1433   8500   NaN  17016   Petrol   86       0.0          0  1300   \n",
       "1434        1434   7250  70.0     ??      NaN   86       1.0          0  1300   \n",
       "1435        1435   6950  76.0      1   Petrol  110       0.0          0  1600   \n",
       "\n",
       "     Doors  Weight  \n",
       "1431     3    1025  \n",
       "1432     3    1015  \n",
       "1433     3    1015  \n",
       "1434     3    1015  \n",
       "1435     5    1114  "
      ]
     },
     "execution_count": 5,
     "metadata": {},
     "output_type": "execute_result"
    }
   ],
   "source": [
    "## lets see the last five rows\n",
    "toyota_df.tail()"
   ]
  },
  {
   "cell_type": "code",
   "execution_count": 6,
   "id": "58350390-b962-4dbc-a17d-e0fd465f72c1",
   "metadata": {},
   "outputs": [
    {
     "data": {
      "text/plain": [
       "15796"
      ]
     },
     "execution_count": 6,
     "metadata": {},
     "output_type": "execute_result"
    }
   ],
   "source": [
    "## lets check the size of the data\n",
    "toyota_df.size"
   ]
  },
  {
   "cell_type": "code",
   "execution_count": 7,
   "id": "e7b8dec3-3e76-40a5-8a19-f5ca088bad53",
   "metadata": {},
   "outputs": [
    {
     "name": "stdout",
     "output_type": "stream",
     "text": [
      "Total Number of Rows: 1436 => Total Number of Columns: 11\n"
     ]
    }
   ],
   "source": [
    "## lets check total number of rows and columns\n",
    "print(f\"Total Number of Rows: {toyota_df.shape[0]} => Total Number of Columns: {toyota_data.shape[1]}\")"
   ]
  },
  {
   "cell_type": "code",
   "execution_count": 8,
   "id": "2a2c80e5-ef47-4b74-b8d6-c211f774ae15",
   "metadata": {},
   "outputs": [
    {
     "data": {
      "text/plain": [
       "RangeIndex(start=0, stop=1436, step=1)"
      ]
     },
     "execution_count": 8,
     "metadata": {},
     "output_type": "execute_result"
    }
   ],
   "source": [
    "## lets display index\n",
    "toyota_df.index"
   ]
  },
  {
   "cell_type": "code",
   "execution_count": 9,
   "id": "2fc41725-7aef-4d14-99bc-ac6004d91245",
   "metadata": {},
   "outputs": [
    {
     "data": {
      "text/plain": [
       "Index(['Unnamed: 0', 'Price', 'Age', 'KM', 'FuelType', 'HP', 'MetColor',\n",
       "       'Automatic', 'CC', 'Doors', 'Weight'],\n",
       "      dtype='object')"
      ]
     },
     "execution_count": 9,
     "metadata": {},
     "output_type": "execute_result"
    }
   ],
   "source": [
    "## lets display the column names\n",
    "toyota_df.columns"
   ]
  },
  {
   "cell_type": "code",
   "execution_count": 10,
   "id": "62cb98b0-cb31-48cf-9a33-4403e5ad58be",
   "metadata": {},
   "outputs": [
    {
     "data": {
      "text/plain": [
       "Unnamed: 0      int64\n",
       "Price           int64\n",
       "Age           float64\n",
       "KM             object\n",
       "FuelType       object\n",
       "HP             object\n",
       "MetColor      float64\n",
       "Automatic       int64\n",
       "CC              int64\n",
       "Doors          object\n",
       "Weight          int64\n",
       "dtype: object"
      ]
     },
     "execution_count": 10,
     "metadata": {},
     "output_type": "execute_result"
    }
   ],
   "source": [
    "## lets check the columns types \n",
    "toyota_df.dtypes"
   ]
  },
  {
   "cell_type": "code",
   "execution_count": 11,
   "id": "13d23cb4-7d89-4a76-905f-a77e34950449",
   "metadata": {},
   "outputs": [
    {
     "name": "stdout",
     "output_type": "stream",
     "text": [
      "<class 'pandas.core.frame.DataFrame'>\n",
      "RangeIndex: 1436 entries, 0 to 1435\n",
      "Data columns (total 11 columns):\n",
      " #   Column      Non-Null Count  Dtype  \n",
      "---  ------      --------------  -----  \n",
      " 0   Unnamed: 0  1436 non-null   int64  \n",
      " 1   Price       1436 non-null   int64  \n",
      " 2   Age         1336 non-null   float64\n",
      " 3   KM          1436 non-null   object \n",
      " 4   FuelType    1336 non-null   object \n",
      " 5   HP          1436 non-null   object \n",
      " 6   MetColor    1286 non-null   float64\n",
      " 7   Automatic   1436 non-null   int64  \n",
      " 8   CC          1436 non-null   int64  \n",
      " 9   Doors       1436 non-null   object \n",
      " 10  Weight      1436 non-null   int64  \n",
      "dtypes: float64(2), int64(5), object(4)\n",
      "memory usage: 123.5+ KB\n"
     ]
    }
   ],
   "source": [
    "## lets get a concise summary of our toyota dataframes\n",
    "toyota_df.info()"
   ]
  },
  {
   "cell_type": "markdown",
   "id": "146ad2dc-911e-4654-bb97-ad80280c2545",
   "metadata": {},
   "source": [
    "check for unique instances in the following columns\n",
    "- HP\n",
    "- KM\n",
    "- MetColor\n",
    "- Automatic\n",
    "- Doors\n"
   ]
  },
  {
   "cell_type": "code",
   "execution_count": 12,
   "id": "a6046048-68f5-4bcb-b6d0-7eceb756d7b8",
   "metadata": {},
   "outputs": [
    {
     "name": "stdout",
     "output_type": "stream",
     "text": [
      "['107' '110' '116' '192' '69' '71' '72' '73' '86' '90' '97' '98' '????']\n"
     ]
    }
   ],
   "source": [
    "print(np.unique(toyota_df['HP']))"
   ]
  },
  {
   "cell_type": "code",
   "execution_count": 13,
   "id": "3248bd77-9ee1-4077-8b94-01538ecc3ab1",
   "metadata": {},
   "outputs": [
    {
     "name": "stdout",
     "output_type": "stream",
     "text": [
      "['1' '10000' '100123' ... '99865' '99971' '??']\n"
     ]
    }
   ],
   "source": [
    "print(np.unique(toyota_df['KM']))"
   ]
  },
  {
   "cell_type": "code",
   "execution_count": 14,
   "id": "16f96b39-ac77-409d-ab6b-af5884626898",
   "metadata": {},
   "outputs": [
    {
     "name": "stdout",
     "output_type": "stream",
     "text": [
      "[ 0.  1. nan]\n"
     ]
    }
   ],
   "source": [
    "print(np.unique(toyota_df['MetColor']))"
   ]
  },
  {
   "cell_type": "code",
   "execution_count": 15,
   "id": "b1b26af9-4699-427a-891d-3b405da9bd2a",
   "metadata": {},
   "outputs": [
    {
     "name": "stdout",
     "output_type": "stream",
     "text": [
      "[0 1]\n"
     ]
    }
   ],
   "source": [
    "print(np.unique(toyota_df['Automatic']))"
   ]
  },
  {
   "cell_type": "code",
   "execution_count": 16,
   "id": "752a55b2-ee4a-4396-a552-ed5e14967fac",
   "metadata": {},
   "outputs": [
    {
     "name": "stdout",
     "output_type": "stream",
     "text": [
      "['2' '3' '4' '5' 'five' 'four' 'three']\n"
     ]
    }
   ],
   "source": [
    "print(np.unique(toyota_df['Doors']))"
   ]
  },
  {
   "cell_type": "markdown",
   "id": "4c585917-0dd0-4d9b-8102-257f776c8072",
   "metadata": {},
   "source": [
    "## Data Preprocessing\n",
    "- replace '??' with NaN and change column type to float\n",
    "- replace '????' in HP with NaN and change column type to float\n",
    "- In column 'Doors',replace 'five' with 5, 'four' with 4, 'three' with 3, and change column type"
   ]
  },
  {
   "cell_type": "code",
   "execution_count": 17,
   "id": "639f776b-74c1-43a3-ba38-048f9415610d",
   "metadata": {},
   "outputs": [],
   "source": [
    "toyota_df['KM'] = toyota_df['KM'].replace('??' , np.nan)\n",
    "toyota_df['KM'] = toyota_df['KM'].astype(float)                                        "
   ]
  },
  {
   "cell_type": "code",
   "execution_count": 18,
   "id": "c70d9c06-2f64-4a44-86ba-9ab7944fc4e9",
   "metadata": {},
   "outputs": [],
   "source": [
    "toyota_df['HP'] = toyota_df['HP'].replace('????' , np.nan)\n",
    "toyota_df['HP'] = toyota_df['HP'].astype(float)                                        "
   ]
  },
  {
   "cell_type": "code",
   "execution_count": 19,
   "id": "2fc7d7d8-9f0e-4a75-867d-1f1e42cfc11b",
   "metadata": {},
   "outputs": [],
   "source": [
    "toyota_df['Doors'] = toyota_df['Doors'].replace('five' , 5)\n",
    "toyota_df['Doors'] = toyota_df['Doors'].replace('four' , 4)\n",
    "toyota_df['Doors'] = toyota_df['Doors'].replace('three' , 3)\n",
    "toyota_df['Doors'] = toyota_df['Doors'].astype(int)                                        \n",
    "\n"
   ]
  },
  {
   "cell_type": "code",
   "execution_count": 20,
   "id": "7719e814-5297-43e4-8949-ba3accff7751",
   "metadata": {},
   "outputs": [],
   "source": [
    "toyota_df['Doors'] = toyota_df['Doors'].astype('category')"
   ]
  },
  {
   "cell_type": "code",
   "execution_count": 21,
   "id": "e7d23ded-aeda-44a1-aaee-f7bf3643e6fa",
   "metadata": {},
   "outputs": [],
   "source": [
    "## reading the mean on the age column\n",
    "mean_age = toyota_df['Age'].mean()"
   ]
  },
  {
   "cell_type": "code",
   "execution_count": 22,
   "id": "d1d0414d-4792-43b5-9bf0-1572b97ace23",
   "metadata": {},
   "outputs": [
    {
     "data": {
      "text/plain": [
       "56.0"
      ]
     },
     "execution_count": 22,
     "metadata": {},
     "output_type": "execute_result"
    }
   ],
   "source": [
    "age = round(mean_age, 0)\n",
    "age"
   ]
  },
  {
   "cell_type": "code",
   "execution_count": 23,
   "id": "d8d59979-356f-4244-91c2-bdcb3d95ccde",
   "metadata": {},
   "outputs": [
    {
     "data": {
      "text/plain": [
       "60.0"
      ]
     },
     "execution_count": 23,
     "metadata": {},
     "output_type": "execute_result"
    }
   ],
   "source": [
    "toyota_df['Age'].median()"
   ]
  },
  {
   "cell_type": "code",
   "execution_count": 24,
   "id": "8ee4c0b7-d4c8-413e-af84-387d6884044b",
   "metadata": {},
   "outputs": [],
   "source": [
    "toyota_df['Age'] = toyota_df['Age'].fillna(age)"
   ]
  },
  {
   "cell_type": "code",
   "execution_count": 25,
   "id": "bd7287ca-84ea-439b-a782-4cefbd51fb69",
   "metadata": {},
   "outputs": [
    {
     "data": {
      "text/plain": [
       "0"
      ]
     },
     "execution_count": 25,
     "metadata": {},
     "output_type": "execute_result"
    }
   ],
   "source": [
    "toyota_df['Age'].isnull().sum()"
   ]
  },
  {
   "cell_type": "code",
   "execution_count": 26,
   "id": "2821265b-3174-4bbc-af2f-6fc956703302",
   "metadata": {},
   "outputs": [],
   "source": [
    "## reading the median value on KM column\n",
    "km_median = toyota_df['KM'].median()"
   ]
  },
  {
   "cell_type": "code",
   "execution_count": 27,
   "id": "95954227-ea4d-4db4-ab52-846d090dc3bf",
   "metadata": {},
   "outputs": [],
   "source": [
    "toyota_df['KM'] = toyota_df['KM'].fillna(km_median)"
   ]
  },
  {
   "cell_type": "code",
   "execution_count": 28,
   "id": "747c2749-8baf-4b56-8595-4dffb86bfcc6",
   "metadata": {},
   "outputs": [
    {
     "data": {
      "text/plain": [
       "0"
      ]
     },
     "execution_count": 28,
     "metadata": {},
     "output_type": "execute_result"
    }
   ],
   "source": [
    "toyota_df['KM'].isnull().sum()"
   ]
  },
  {
   "cell_type": "code",
   "execution_count": 29,
   "id": "5883829c-5e8e-4e31-b09c-858272b6b37f",
   "metadata": {},
   "outputs": [
    {
     "data": {
      "text/plain": [
       "1.0"
      ]
     },
     "execution_count": 29,
     "metadata": {},
     "output_type": "execute_result"
    }
   ],
   "source": [
    "## reading the median value on the MetColor column\n",
    "toyota_df['MetColor'].median()"
   ]
  },
  {
   "cell_type": "code",
   "execution_count": 30,
   "id": "40aec75c-341e-462c-bc93-0e85e7fa98d9",
   "metadata": {},
   "outputs": [
    {
     "data": {
      "text/plain": [
       "0.6749611197511665"
      ]
     },
     "execution_count": 30,
     "metadata": {},
     "output_type": "execute_result"
    }
   ],
   "source": [
    "toyota_df['MetColor'].mean()"
   ]
  },
  {
   "cell_type": "code",
   "execution_count": 31,
   "id": "be27c5d4-3c7a-4acc-84f2-bc09bc189193",
   "metadata": {},
   "outputs": [
    {
     "data": {
      "text/plain": [
       "FuelType\n",
       "Petrol    1177\n",
       "Diesel     144\n",
       "CNG         15\n",
       "Name: count, dtype: int64"
      ]
     },
     "execution_count": 31,
     "metadata": {},
     "output_type": "execute_result"
    }
   ],
   "source": [
    "toyota_df['FuelType'].value_counts()"
   ]
  },
  {
   "cell_type": "code",
   "execution_count": 32,
   "id": "55c1ea7f-f917-4751-ba7f-eb91f7ff9ad9",
   "metadata": {},
   "outputs": [
    {
     "data": {
      "text/plain": [
       "'Petrol'"
      ]
     },
     "execution_count": 32,
     "metadata": {},
     "output_type": "execute_result"
    }
   ],
   "source": [
    "toyota_df['FuelType'].value_counts().index[0]"
   ]
  },
  {
   "cell_type": "code",
   "execution_count": 33,
   "id": "4cb7743a-9dd7-42f2-913a-e92ebd1e64be",
   "metadata": {},
   "outputs": [],
   "source": [
    "highest_count_fuelType = toyota_df['FuelType'].value_counts().index[0]"
   ]
  },
  {
   "cell_type": "code",
   "execution_count": 34,
   "id": "184936f6-3b9e-4671-b91b-280cc1078e3b",
   "metadata": {},
   "outputs": [],
   "source": [
    "toyota_df['FuelType'] = toyota_df['FuelType'].fillna(highest_count_fuelType)"
   ]
  },
  {
   "cell_type": "code",
   "execution_count": 35,
   "id": "59a1b3f6-e2cc-406a-a302-8f15f4104d75",
   "metadata": {},
   "outputs": [
    {
     "data": {
      "text/plain": [
       "0"
      ]
     },
     "execution_count": 35,
     "metadata": {},
     "output_type": "execute_result"
    }
   ],
   "source": [
    "toyota_df['FuelType'].isnull().sum()"
   ]
  },
  {
   "cell_type": "code",
   "execution_count": 36,
   "id": "f3ef28ad-9af9-436f-94cf-ff177435af98",
   "metadata": {},
   "outputs": [
    {
     "data": {
      "text/plain": [
       "Unnamed: 0       int64\n",
       "Price            int64\n",
       "Age            float64\n",
       "KM             float64\n",
       "FuelType        object\n",
       "HP             float64\n",
       "MetColor       float64\n",
       "Automatic        int64\n",
       "CC               int64\n",
       "Doors         category\n",
       "Weight           int64\n",
       "dtype: object"
      ]
     },
     "execution_count": 36,
     "metadata": {},
     "output_type": "execute_result"
    }
   ],
   "source": [
    "toyota_df.dtypes"
   ]
  },
  {
   "cell_type": "code",
   "execution_count": 37,
   "id": "cb4d6034-7570-4d8b-9874-460b36e11e0d",
   "metadata": {},
   "outputs": [],
   "source": [
    "toyota_df['Profit'] = toyota_df['Price'] - toyota_df['KM']"
   ]
  },
  {
   "cell_type": "code",
   "execution_count": 38,
   "id": "ac04f138-e740-482a-8bed-bb9a93a91f90",
   "metadata": {},
   "outputs": [
    {
     "data": {
      "text/plain": [
       "Unnamed: 0       int64\n",
       "Price            int64\n",
       "Age            float64\n",
       "KM             float64\n",
       "FuelType        object\n",
       "HP             float64\n",
       "MetColor       float64\n",
       "Automatic        int64\n",
       "CC               int64\n",
       "Doors         category\n",
       "Weight           int64\n",
       "Profit         float64\n",
       "dtype: object"
      ]
     },
     "execution_count": 38,
     "metadata": {},
     "output_type": "execute_result"
    }
   ],
   "source": [
    "toyota_df.dtypes"
   ]
  },
  {
   "cell_type": "code",
   "execution_count": 39,
   "id": "36956ff8-6ad5-4542-91a3-3f421e33546a",
   "metadata": {},
   "outputs": [],
   "source": [
    "numerical_cols = ['Profit', 'Age', 'KM', 'HP', 'CC', 'Weight', 'Profit']\n",
    "categorical_cols = ['Doors', 'FuelType', 'MetColor']"
   ]
  },
  {
   "cell_type": "code",
   "execution_count": 40,
   "id": "f9c02de3-0650-443a-88d6-98cf94cf3d23",
   "metadata": {},
   "outputs": [
    {
     "data": {
      "text/html": [
       "<div>\n",
       "<style scoped>\n",
       "    .dataframe tbody tr th:only-of-type {\n",
       "        vertical-align: middle;\n",
       "    }\n",
       "\n",
       "    .dataframe tbody tr th {\n",
       "        vertical-align: top;\n",
       "    }\n",
       "\n",
       "    .dataframe thead th {\n",
       "        text-align: right;\n",
       "    }\n",
       "</style>\n",
       "<table border=\"1\" class=\"dataframe\">\n",
       "  <thead>\n",
       "    <tr style=\"text-align: right;\">\n",
       "      <th></th>\n",
       "      <th>Profit</th>\n",
       "      <th>Age</th>\n",
       "      <th>KM</th>\n",
       "      <th>HP</th>\n",
       "      <th>CC</th>\n",
       "      <th>Weight</th>\n",
       "      <th>Profit</th>\n",
       "    </tr>\n",
       "  </thead>\n",
       "  <tbody>\n",
       "    <tr>\n",
       "      <th>0</th>\n",
       "      <td>-33486.0</td>\n",
       "      <td>23.0</td>\n",
       "      <td>46986.0</td>\n",
       "      <td>90.0</td>\n",
       "      <td>2000</td>\n",
       "      <td>1165</td>\n",
       "      <td>-33486.0</td>\n",
       "    </tr>\n",
       "    <tr>\n",
       "      <th>1</th>\n",
       "      <td>-59187.0</td>\n",
       "      <td>23.0</td>\n",
       "      <td>72937.0</td>\n",
       "      <td>90.0</td>\n",
       "      <td>2000</td>\n",
       "      <td>1165</td>\n",
       "      <td>-59187.0</td>\n",
       "    </tr>\n",
       "    <tr>\n",
       "      <th>2</th>\n",
       "      <td>-27761.0</td>\n",
       "      <td>24.0</td>\n",
       "      <td>41711.0</td>\n",
       "      <td>90.0</td>\n",
       "      <td>2000</td>\n",
       "      <td>1165</td>\n",
       "      <td>-27761.0</td>\n",
       "    </tr>\n",
       "    <tr>\n",
       "      <th>3</th>\n",
       "      <td>-33050.0</td>\n",
       "      <td>26.0</td>\n",
       "      <td>48000.0</td>\n",
       "      <td>90.0</td>\n",
       "      <td>2000</td>\n",
       "      <td>1165</td>\n",
       "      <td>-33050.0</td>\n",
       "    </tr>\n",
       "    <tr>\n",
       "      <th>4</th>\n",
       "      <td>-24750.0</td>\n",
       "      <td>30.0</td>\n",
       "      <td>38500.0</td>\n",
       "      <td>90.0</td>\n",
       "      <td>2000</td>\n",
       "      <td>1170</td>\n",
       "      <td>-24750.0</td>\n",
       "    </tr>\n",
       "    <tr>\n",
       "      <th>...</th>\n",
       "      <td>...</td>\n",
       "      <td>...</td>\n",
       "      <td>...</td>\n",
       "      <td>...</td>\n",
       "      <td>...</td>\n",
       "      <td>...</td>\n",
       "      <td>...</td>\n",
       "    </tr>\n",
       "    <tr>\n",
       "      <th>1431</th>\n",
       "      <td>-13044.0</td>\n",
       "      <td>56.0</td>\n",
       "      <td>20544.0</td>\n",
       "      <td>86.0</td>\n",
       "      <td>1300</td>\n",
       "      <td>1025</td>\n",
       "      <td>-13044.0</td>\n",
       "    </tr>\n",
       "    <tr>\n",
       "      <th>1432</th>\n",
       "      <td>-52789.0</td>\n",
       "      <td>72.0</td>\n",
       "      <td>63634.0</td>\n",
       "      <td>86.0</td>\n",
       "      <td>1300</td>\n",
       "      <td>1015</td>\n",
       "      <td>-52789.0</td>\n",
       "    </tr>\n",
       "    <tr>\n",
       "      <th>1433</th>\n",
       "      <td>-8516.0</td>\n",
       "      <td>56.0</td>\n",
       "      <td>17016.0</td>\n",
       "      <td>86.0</td>\n",
       "      <td>1300</td>\n",
       "      <td>1015</td>\n",
       "      <td>-8516.0</td>\n",
       "    </tr>\n",
       "    <tr>\n",
       "      <th>1434</th>\n",
       "      <td>-56384.0</td>\n",
       "      <td>70.0</td>\n",
       "      <td>63634.0</td>\n",
       "      <td>86.0</td>\n",
       "      <td>1300</td>\n",
       "      <td>1015</td>\n",
       "      <td>-56384.0</td>\n",
       "    </tr>\n",
       "    <tr>\n",
       "      <th>1435</th>\n",
       "      <td>6949.0</td>\n",
       "      <td>76.0</td>\n",
       "      <td>1.0</td>\n",
       "      <td>110.0</td>\n",
       "      <td>1600</td>\n",
       "      <td>1114</td>\n",
       "      <td>6949.0</td>\n",
       "    </tr>\n",
       "  </tbody>\n",
       "</table>\n",
       "<p>1436 rows × 7 columns</p>\n",
       "</div>"
      ],
      "text/plain": [
       "       Profit   Age       KM     HP    CC  Weight   Profit\n",
       "0    -33486.0  23.0  46986.0   90.0  2000    1165 -33486.0\n",
       "1    -59187.0  23.0  72937.0   90.0  2000    1165 -59187.0\n",
       "2    -27761.0  24.0  41711.0   90.0  2000    1165 -27761.0\n",
       "3    -33050.0  26.0  48000.0   90.0  2000    1165 -33050.0\n",
       "4    -24750.0  30.0  38500.0   90.0  2000    1170 -24750.0\n",
       "...       ...   ...      ...    ...   ...     ...      ...\n",
       "1431 -13044.0  56.0  20544.0   86.0  1300    1025 -13044.0\n",
       "1432 -52789.0  72.0  63634.0   86.0  1300    1015 -52789.0\n",
       "1433  -8516.0  56.0  17016.0   86.0  1300    1015  -8516.0\n",
       "1434 -56384.0  70.0  63634.0   86.0  1300    1015 -56384.0\n",
       "1435   6949.0  76.0      1.0  110.0  1600    1114   6949.0\n",
       "\n",
       "[1436 rows x 7 columns]"
      ]
     },
     "execution_count": 40,
     "metadata": {},
     "output_type": "execute_result"
    }
   ],
   "source": [
    "num_df = toyota_df[numerical_cols]\n",
    "num_df"
   ]
  },
  {
   "cell_type": "code",
   "execution_count": 41,
   "id": "d584f8eb-45fe-4b41-a5a2-e3138a8eda8b",
   "metadata": {},
   "outputs": [
    {
     "data": {
      "text/html": [
       "<div>\n",
       "<style scoped>\n",
       "    .dataframe tbody tr th:only-of-type {\n",
       "        vertical-align: middle;\n",
       "    }\n",
       "\n",
       "    .dataframe tbody tr th {\n",
       "        vertical-align: top;\n",
       "    }\n",
       "\n",
       "    .dataframe thead th {\n",
       "        text-align: right;\n",
       "    }\n",
       "</style>\n",
       "<table border=\"1\" class=\"dataframe\">\n",
       "  <thead>\n",
       "    <tr style=\"text-align: right;\">\n",
       "      <th></th>\n",
       "      <th>Doors</th>\n",
       "      <th>FuelType</th>\n",
       "      <th>MetColor</th>\n",
       "    </tr>\n",
       "  </thead>\n",
       "  <tbody>\n",
       "    <tr>\n",
       "      <th>0</th>\n",
       "      <td>3</td>\n",
       "      <td>Diesel</td>\n",
       "      <td>1.0</td>\n",
       "    </tr>\n",
       "    <tr>\n",
       "      <th>1</th>\n",
       "      <td>3</td>\n",
       "      <td>Diesel</td>\n",
       "      <td>1.0</td>\n",
       "    </tr>\n",
       "    <tr>\n",
       "      <th>2</th>\n",
       "      <td>3</td>\n",
       "      <td>Diesel</td>\n",
       "      <td>NaN</td>\n",
       "    </tr>\n",
       "    <tr>\n",
       "      <th>3</th>\n",
       "      <td>3</td>\n",
       "      <td>Diesel</td>\n",
       "      <td>0.0</td>\n",
       "    </tr>\n",
       "    <tr>\n",
       "      <th>4</th>\n",
       "      <td>3</td>\n",
       "      <td>Diesel</td>\n",
       "      <td>0.0</td>\n",
       "    </tr>\n",
       "    <tr>\n",
       "      <th>...</th>\n",
       "      <td>...</td>\n",
       "      <td>...</td>\n",
       "      <td>...</td>\n",
       "    </tr>\n",
       "    <tr>\n",
       "      <th>1431</th>\n",
       "      <td>3</td>\n",
       "      <td>Petrol</td>\n",
       "      <td>1.0</td>\n",
       "    </tr>\n",
       "    <tr>\n",
       "      <th>1432</th>\n",
       "      <td>3</td>\n",
       "      <td>Petrol</td>\n",
       "      <td>0.0</td>\n",
       "    </tr>\n",
       "    <tr>\n",
       "      <th>1433</th>\n",
       "      <td>3</td>\n",
       "      <td>Petrol</td>\n",
       "      <td>0.0</td>\n",
       "    </tr>\n",
       "    <tr>\n",
       "      <th>1434</th>\n",
       "      <td>3</td>\n",
       "      <td>Petrol</td>\n",
       "      <td>1.0</td>\n",
       "    </tr>\n",
       "    <tr>\n",
       "      <th>1435</th>\n",
       "      <td>5</td>\n",
       "      <td>Petrol</td>\n",
       "      <td>0.0</td>\n",
       "    </tr>\n",
       "  </tbody>\n",
       "</table>\n",
       "<p>1436 rows × 3 columns</p>\n",
       "</div>"
      ],
      "text/plain": [
       "     Doors FuelType  MetColor\n",
       "0        3   Diesel       1.0\n",
       "1        3   Diesel       1.0\n",
       "2        3   Diesel       NaN\n",
       "3        3   Diesel       0.0\n",
       "4        3   Diesel       0.0\n",
       "...    ...      ...       ...\n",
       "1431     3   Petrol       1.0\n",
       "1432     3   Petrol       0.0\n",
       "1433     3   Petrol       0.0\n",
       "1434     3   Petrol       1.0\n",
       "1435     5   Petrol       0.0\n",
       "\n",
       "[1436 rows x 3 columns]"
      ]
     },
     "execution_count": 41,
     "metadata": {},
     "output_type": "execute_result"
    }
   ],
   "source": [
    " cat_df = toyota_df[categorical_cols]\n",
    "cat_df"
   ]
  },
  {
   "cell_type": "markdown",
   "id": "22718879-300e-4c99-a42e-d3b9f1d86a62",
   "metadata": {},
   "source": [
    "## Descriptive Analysis\n",
    "- Toyota Price, Highest Price, and Lowest Price"
   ]
  },
  {
   "cell_type": "code",
   "execution_count": 42,
   "id": "625cc37a-9eb0-41a7-affa-4b23e0015347",
   "metadata": {},
   "outputs": [
    {
     "data": {
      "text/plain": [
       "15409464"
      ]
     },
     "execution_count": 42,
     "metadata": {},
     "output_type": "execute_result"
    }
   ],
   "source": [
    "toyota_df['Price'].sum()"
   ]
  },
  {
   "cell_type": "code",
   "execution_count": 43,
   "id": "3baeec63-e815-453d-9b6b-4ba51f57f617",
   "metadata": {},
   "outputs": [
    {
     "data": {
      "text/plain": [
       "4350"
      ]
     },
     "execution_count": 43,
     "metadata": {},
     "output_type": "execute_result"
    }
   ],
   "source": [
    "toyota_df['Price'].min()"
   ]
  },
  {
   "cell_type": "code",
   "execution_count": 44,
   "id": "2010110c-0af2-497a-8191-01f5c275bf7d",
   "metadata": {},
   "outputs": [
    {
     "data": {
      "text/plain": [
       "32500"
      ]
     },
     "execution_count": 44,
     "metadata": {},
     "output_type": "execute_result"
    }
   ],
   "source": [
    "toyota_df['Price'].max()"
   ]
  },
  {
   "cell_type": "code",
   "execution_count": 45,
   "id": "e5b9ee35-f50a-42ba-a01b-ffc1e985736a",
   "metadata": {},
   "outputs": [
    {
     "data": {
      "text/html": [
       "<div>\n",
       "<style scoped>\n",
       "    .dataframe tbody tr th:only-of-type {\n",
       "        vertical-align: middle;\n",
       "    }\n",
       "\n",
       "    .dataframe tbody tr th {\n",
       "        vertical-align: top;\n",
       "    }\n",
       "\n",
       "    .dataframe thead th {\n",
       "        text-align: right;\n",
       "    }\n",
       "</style>\n",
       "<table border=\"1\" class=\"dataframe\">\n",
       "  <thead>\n",
       "    <tr style=\"text-align: right;\">\n",
       "      <th></th>\n",
       "      <th>Unnamed: 0</th>\n",
       "      <th>Price</th>\n",
       "      <th>Age</th>\n",
       "      <th>KM</th>\n",
       "      <th>HP</th>\n",
       "      <th>MetColor</th>\n",
       "      <th>Automatic</th>\n",
       "      <th>CC</th>\n",
       "      <th>Weight</th>\n",
       "      <th>Profit</th>\n",
       "    </tr>\n",
       "  </thead>\n",
       "  <tbody>\n",
       "    <tr>\n",
       "      <th>count</th>\n",
       "      <td>1436.0</td>\n",
       "      <td>1436.0</td>\n",
       "      <td>1436.0</td>\n",
       "      <td>1436.0</td>\n",
       "      <td>1430.0</td>\n",
       "      <td>1286.0</td>\n",
       "      <td>1436.0</td>\n",
       "      <td>1436.0</td>\n",
       "      <td>1436.0</td>\n",
       "      <td>1436.0</td>\n",
       "    </tr>\n",
       "    <tr>\n",
       "      <th>mean</th>\n",
       "      <td>718.0</td>\n",
       "      <td>10731.0</td>\n",
       "      <td>56.0</td>\n",
       "      <td>68595.0</td>\n",
       "      <td>101.0</td>\n",
       "      <td>1.0</td>\n",
       "      <td>0.0</td>\n",
       "      <td>1567.0</td>\n",
       "      <td>1072.0</td>\n",
       "      <td>-57864.0</td>\n",
       "    </tr>\n",
       "    <tr>\n",
       "      <th>std</th>\n",
       "      <td>415.0</td>\n",
       "      <td>3627.0</td>\n",
       "      <td>18.0</td>\n",
       "      <td>37141.0</td>\n",
       "      <td>15.0</td>\n",
       "      <td>0.0</td>\n",
       "      <td>0.0</td>\n",
       "      <td>187.0</td>\n",
       "      <td>53.0</td>\n",
       "      <td>39307.0</td>\n",
       "    </tr>\n",
       "    <tr>\n",
       "      <th>min</th>\n",
       "      <td>0.0</td>\n",
       "      <td>4350.0</td>\n",
       "      <td>1.0</td>\n",
       "      <td>1.0</td>\n",
       "      <td>69.0</td>\n",
       "      <td>0.0</td>\n",
       "      <td>0.0</td>\n",
       "      <td>1300.0</td>\n",
       "      <td>1000.0</td>\n",
       "      <td>-236050.0</td>\n",
       "    </tr>\n",
       "    <tr>\n",
       "      <th>25%</th>\n",
       "      <td>359.0</td>\n",
       "      <td>8450.0</td>\n",
       "      <td>44.0</td>\n",
       "      <td>43506.0</td>\n",
       "      <td>90.0</td>\n",
       "      <td>0.0</td>\n",
       "      <td>0.0</td>\n",
       "      <td>1400.0</td>\n",
       "      <td>1040.0</td>\n",
       "      <td>-77603.0</td>\n",
       "    </tr>\n",
       "    <tr>\n",
       "      <th>50%</th>\n",
       "      <td>718.0</td>\n",
       "      <td>9900.0</td>\n",
       "      <td>59.0</td>\n",
       "      <td>63634.0</td>\n",
       "      <td>110.0</td>\n",
       "      <td>1.0</td>\n",
       "      <td>0.0</td>\n",
       "      <td>1600.0</td>\n",
       "      <td>1070.0</td>\n",
       "      <td>-53560.0</td>\n",
       "    </tr>\n",
       "    <tr>\n",
       "      <th>75%</th>\n",
       "      <td>1076.0</td>\n",
       "      <td>11950.0</td>\n",
       "      <td>68.0</td>\n",
       "      <td>86916.0</td>\n",
       "      <td>110.0</td>\n",
       "      <td>1.0</td>\n",
       "      <td>0.0</td>\n",
       "      <td>1600.0</td>\n",
       "      <td>1085.0</td>\n",
       "      <td>-32013.0</td>\n",
       "    </tr>\n",
       "    <tr>\n",
       "      <th>max</th>\n",
       "      <td>1435.0</td>\n",
       "      <td>32500.0</td>\n",
       "      <td>80.0</td>\n",
       "      <td>243000.0</td>\n",
       "      <td>192.0</td>\n",
       "      <td>1.0</td>\n",
       "      <td>1.0</td>\n",
       "      <td>2000.0</td>\n",
       "      <td>1615.0</td>\n",
       "      <td>32499.0</td>\n",
       "    </tr>\n",
       "  </tbody>\n",
       "</table>\n",
       "</div>"
      ],
      "text/plain": [
       "       Unnamed: 0    Price     Age        KM      HP  MetColor  Automatic  \\\n",
       "count      1436.0   1436.0  1436.0    1436.0  1430.0    1286.0     1436.0   \n",
       "mean        718.0  10731.0    56.0   68595.0   101.0       1.0        0.0   \n",
       "std         415.0   3627.0    18.0   37141.0    15.0       0.0        0.0   \n",
       "min           0.0   4350.0     1.0       1.0    69.0       0.0        0.0   \n",
       "25%         359.0   8450.0    44.0   43506.0    90.0       0.0        0.0   \n",
       "50%         718.0   9900.0    59.0   63634.0   110.0       1.0        0.0   \n",
       "75%        1076.0  11950.0    68.0   86916.0   110.0       1.0        0.0   \n",
       "max        1435.0  32500.0    80.0  243000.0   192.0       1.0        1.0   \n",
       "\n",
       "           CC  Weight    Profit  \n",
       "count  1436.0  1436.0    1436.0  \n",
       "mean   1567.0  1072.0  -57864.0  \n",
       "std     187.0    53.0   39307.0  \n",
       "min    1300.0  1000.0 -236050.0  \n",
       "25%    1400.0  1040.0  -77603.0  \n",
       "50%    1600.0  1070.0  -53560.0  \n",
       "75%    1600.0  1085.0  -32013.0  \n",
       "max    2000.0  1615.0   32499.0  "
      ]
     },
     "execution_count": 45,
     "metadata": {},
     "output_type": "execute_result"
    }
   ],
   "source": [
    "toyota_df.describe().round()"
   ]
  },
  {
   "cell_type": "code",
   "execution_count": 46,
   "id": "1ad6f686-f079-4a40-aaff-b05966c5689a",
   "metadata": {},
   "outputs": [
    {
     "data": {
      "text/html": [
       "<div>\n",
       "<style scoped>\n",
       "    .dataframe tbody tr th:only-of-type {\n",
       "        vertical-align: middle;\n",
       "    }\n",
       "\n",
       "    .dataframe tbody tr th {\n",
       "        vertical-align: top;\n",
       "    }\n",
       "\n",
       "    .dataframe thead th {\n",
       "        text-align: right;\n",
       "    }\n",
       "</style>\n",
       "<table border=\"1\" class=\"dataframe\">\n",
       "  <thead>\n",
       "    <tr style=\"text-align: right;\">\n",
       "      <th></th>\n",
       "      <th>Profit</th>\n",
       "      <th>Age</th>\n",
       "      <th>KM</th>\n",
       "      <th>HP</th>\n",
       "      <th>CC</th>\n",
       "      <th>Weight</th>\n",
       "      <th>Profit</th>\n",
       "    </tr>\n",
       "  </thead>\n",
       "  <tbody>\n",
       "    <tr>\n",
       "      <th>Profit</th>\n",
       "      <td>1.000000</td>\n",
       "      <td>-0.546173</td>\n",
       "      <td>-0.997102</td>\n",
       "      <td>0.343247</td>\n",
       "      <td>-0.264742</td>\n",
       "      <td>0.078645</td>\n",
       "      <td>1.000000</td>\n",
       "    </tr>\n",
       "    <tr>\n",
       "      <th>Age</th>\n",
       "      <td>-0.546173</td>\n",
       "      <td>1.000000</td>\n",
       "      <td>0.495496</td>\n",
       "      <td>-0.153603</td>\n",
       "      <td>-0.116375</td>\n",
       "      <td>-0.442166</td>\n",
       "      <td>-0.546173</td>\n",
       "    </tr>\n",
       "    <tr>\n",
       "      <th>KM</th>\n",
       "      <td>-0.997102</td>\n",
       "      <td>0.495496</td>\n",
       "      <td>1.000000</td>\n",
       "      <td>-0.333035</td>\n",
       "      <td>0.296305</td>\n",
       "      <td>-0.026476</td>\n",
       "      <td>-0.997102</td>\n",
       "    </tr>\n",
       "    <tr>\n",
       "      <th>HP</th>\n",
       "      <td>0.343247</td>\n",
       "      <td>-0.153603</td>\n",
       "      <td>-0.333035</td>\n",
       "      <td>1.000000</td>\n",
       "      <td>0.053758</td>\n",
       "      <td>0.086737</td>\n",
       "      <td>0.343247</td>\n",
       "    </tr>\n",
       "    <tr>\n",
       "      <th>CC</th>\n",
       "      <td>-0.264742</td>\n",
       "      <td>-0.116375</td>\n",
       "      <td>0.296305</td>\n",
       "      <td>0.053758</td>\n",
       "      <td>1.000000</td>\n",
       "      <td>0.651450</td>\n",
       "      <td>-0.264742</td>\n",
       "    </tr>\n",
       "    <tr>\n",
       "      <th>Weight</th>\n",
       "      <td>0.078645</td>\n",
       "      <td>-0.442166</td>\n",
       "      <td>-0.026476</td>\n",
       "      <td>0.086737</td>\n",
       "      <td>0.651450</td>\n",
       "      <td>1.000000</td>\n",
       "      <td>0.078645</td>\n",
       "    </tr>\n",
       "    <tr>\n",
       "      <th>Profit</th>\n",
       "      <td>1.000000</td>\n",
       "      <td>-0.546173</td>\n",
       "      <td>-0.997102</td>\n",
       "      <td>0.343247</td>\n",
       "      <td>-0.264742</td>\n",
       "      <td>0.078645</td>\n",
       "      <td>1.000000</td>\n",
       "    </tr>\n",
       "  </tbody>\n",
       "</table>\n",
       "</div>"
      ],
      "text/plain": [
       "          Profit       Age        KM        HP        CC    Weight    Profit\n",
       "Profit  1.000000 -0.546173 -0.997102  0.343247 -0.264742  0.078645  1.000000\n",
       "Age    -0.546173  1.000000  0.495496 -0.153603 -0.116375 -0.442166 -0.546173\n",
       "KM     -0.997102  0.495496  1.000000 -0.333035  0.296305 -0.026476 -0.997102\n",
       "HP      0.343247 -0.153603 -0.333035  1.000000  0.053758  0.086737  0.343247\n",
       "CC     -0.264742 -0.116375  0.296305  0.053758  1.000000  0.651450 -0.264742\n",
       "Weight  0.078645 -0.442166 -0.026476  0.086737  0.651450  1.000000  0.078645\n",
       "Profit  1.000000 -0.546173 -0.997102  0.343247 -0.264742  0.078645  1.000000"
      ]
     },
     "execution_count": 46,
     "metadata": {},
     "output_type": "execute_result"
    }
   ],
   "source": [
    "  corr_toyota_df = num_df.corr()\n",
    "  corr_toyota_df"
   ]
  },
  {
   "cell_type": "markdown",
   "id": "cd4364b5-1f46-4e4c-8024-2e59f674fb27",
   "metadata": {},
   "source": [
    "## Expolratory Data Analysis\n",
    "- scatter plot..."
   ]
  },
  {
   "cell_type": "code",
   "execution_count": 49,
   "id": "ee05e21f-8435-4c8b-b4a4-71d762c49dd9",
   "metadata": {},
   "outputs": [
    {
     "data": {
      "image/png": "[encoded data removed]",
      "text/plain": [
       "<Figure size 640x480 with 1 Axes>"
      ]
     },
     "metadata": {},
     "output_type": "display_data"
    }
   ],
   "source": [
    "plt.scatter(toyota_df['Age'], toyota_df['Price'], c='red')\n",
    "\n",
    "plt.title('Relation between Age and Price of a car.')\n",
    "\n",
    "\n",
    "plt.ylabel('Price(Dollars)')\n",
    "\n",
    "plt.xlabel('Age (Months)')\n",
    "           \n",
    "plt.savefig('age_price_rel.png') \n",
    "           \n",
    "plt.show() \n",
    "           \n",
    "            \n",
    "            "
   ]
  },
  {
   "cell_type": "code",
   "execution_count": 50,
   "id": "ac741b9f-c059-4438-a549-b566046ca657",
   "metadata": {},
   "outputs": [
    {
     "data": {
      "image/png": "[encoded data removed]",
      "text/plain": [
       "<Figure size 640x480 with 1 Axes>"
      ]
     },
     "metadata": {},
     "output_type": "display_data"
    }
   ],
   "source": [
    "plt.scatter(toyota_df['KM'], toyota_df['Price'], c='black')\n",
    "\n",
    "plt.title('Relation between KM and Price of a car.')\n",
    "\n",
    "\n",
    "plt.ylabel('Price(Dollars)')\n",
    "\n",
    "plt.xlabel('KM (KM/hr)')\n",
    "           \n",
    "plt.savefig('KM_price_rel.png') \n",
    "           \n",
    "plt.show() \n",
    "           "
   ]
  },
  {
   "cell_type": "code",
   "execution_count": 51,
   "id": "c9cd34a9-866f-47a5-b7de-4b0ce24635e5",
   "metadata": {},
   "outputs": [
    {
     "data": {
      "image/png": "[encoded data removed]",
      "text/plain": [
       "<Figure size 640x480 with 1 Axes>"
      ]
     },
     "metadata": {},
     "output_type": "display_data"
    }
   ],
   "source": [
    "plt.scatter(toyota_df['HP'], toyota_df['Price'], c='blue')\n",
    "\n",
    "plt.title('Relation between HP and Price of a car.')\n",
    "\n",
    "\n",
    "plt.ylabel('Price(Dollars)')\n",
    "\n",
    "plt.xlabel('HP (feet per second)')\n",
    "           \n",
    "plt.savefig('HP_price_rel.png') \n",
    "           \n",
    "plt.show() \n",
    "           "
   ]
  },
  {
   "cell_type": "code",
   "execution_count": 52,
   "id": "9da762ac-95a7-4c55-a755-4a746a2baac8",
   "metadata": {},
   "outputs": [
    {
     "data": {
      "image/png": "[encoded data removed]",
      "text/plain": [
       "<Figure size 640x480 with 1 Axes>"
      ]
     },
     "metadata": {},
     "output_type": "display_data"
    }
   ],
   "source": [
    "plt.scatter(toyota_df['CC'], toyota_df['Price'], c='green')\n",
    "\n",
    "plt.title('Relation between CC and Price of a car.')\n",
    "\n",
    "\n",
    "plt.ylabel('Price(Dollars)')\n",
    "\n",
    "plt.xlabel('CC (Cubic inch)')\n",
    "           \n",
    "plt.savefig('CC_price_rel.png') \n",
    "           \n",
    "plt.show() \n",
    "           "
   ]
  },
  {
   "cell_type": "code",
   "execution_count": 53,
   "id": "ab092021-ce8b-4371-9d44-68b8f6622137",
   "metadata": {},
   "outputs": [
    {
     "data": {
      "image/png": "[encoded data removed]",
      "text/plain": [
       "<Figure size 640x480 with 1 Axes>"
      ]
     },
     "metadata": {},
     "output_type": "display_data"
    }
   ],
   "source": [
    "plt.scatter(toyota_df['Weight'], toyota_df['Price'], c='orange')\n",
    "\n",
    "plt.title('Relation between Weight and Price of a car.')\n",
    "\n",
    "\n",
    "plt.ylabel('Price(Dollars)')\n",
    "\n",
    "plt.xlabel('Weight (kg)')\n",
    "           \n",
    "plt.savefig('Weight_price_rel.png') \n",
    "           \n",
    "plt.show() \n",
    "           "
   ]
  },
  {
   "cell_type": "code",
   "execution_count": null,
   "id": "dcdb28a4-a407-424b-81f5-6fd02ada3a0f",
   "metadata": {},
   "outputs": [],
   "source": []
  }
 ],
 "metadata": {
  "kernelspec": {
   "display_name": "Python 3 (ipykernel)",
   "language": "python",
   "name": "python3"
  },
  "language_info": {
   "codemirror_mode": {
    "name": "ipython",
    "version": 3
   },
   "file_extension": ".py",
   "mimetype": "text/x-python",
   "name": "python",
   "nbconvert_exporter": "python",
   "pygments_lexer": "ipython3",
   "version": "3.12.2"
  }
 },
 "nbformat": 4,
 "nbformat_minor": 5
}
