{
 "cells": [
  {
   "cell_type": "markdown",
   "id": "f7d6d702",
   "metadata": {},
   "source": [
    "# Importing Libraries\n",
    "- numpy\n",
    "- pandas\n",
    "- matplotlib\n",
    "- seaborn\n",
    "\n",
    "## __Goal: Is to be able to predict/estimate the PRICE of a used device base on the available features__"
   ]
  },
  {
   "cell_type": "code",
   "execution_count": 51,
   "id": "b210abf0",
   "metadata": {},
   "outputs": [],
   "source": [
    "import numpy as np\n",
    "import pandas as pd\n",
    "import matplotlib.pyplot as plt\n",
    "# import seaborn as sns"
   ]
  },
  {
   "cell_type": "markdown",
   "id": "56856a5f",
   "metadata": {},
   "source": [
    "# Reading Dataset"
   ]
  },
  {
   "cell_type": "code",
   "execution_count": 52,
   "id": "2c9bc195",
   "metadata": {},
   "outputs": [
    {
     "data": {
      "text/html": [
       "<div>\n",
       "<style scoped>\n",
       "    .dataframe tbody tr th:only-of-type {\n",
       "        vertical-align: middle;\n",
       "    }\n",
       "\n",
       "    .dataframe tbody tr th {\n",
       "        vertical-align: top;\n",
       "    }\n",
       "\n",
       "    .dataframe thead th {\n",
       "        text-align: right;\n",
       "    }\n",
       "</style>\n",
       "<table border=\"1\" class=\"dataframe\">\n",
       "  <thead>\n",
       "    <tr style=\"text-align: right;\">\n",
       "      <th></th>\n",
       "      <th>brand_name</th>\n",
       "      <th>os</th>\n",
       "      <th>screen_size</th>\n",
       "      <th>4g</th>\n",
       "      <th>5g</th>\n",
       "      <th>main_camera_mp</th>\n",
       "      <th>selfie_camera_mp</th>\n",
       "      <th>int_memory</th>\n",
       "      <th>ram</th>\n",
       "      <th>battery</th>\n",
       "      <th>weight</th>\n",
       "      <th>release_year</th>\n",
       "      <th>days_used</th>\n",
       "      <th>used_price</th>\n",
       "    </tr>\n",
       "  </thead>\n",
       "  <tbody>\n",
       "    <tr>\n",
       "      <th>0</th>\n",
       "      <td>Honor</td>\n",
       "      <td>Android</td>\n",
       "      <td>14.50</td>\n",
       "      <td>yes</td>\n",
       "      <td>no</td>\n",
       "      <td>13.0</td>\n",
       "      <td>5.0</td>\n",
       "      <td>64.0</td>\n",
       "      <td>3.0</td>\n",
       "      <td>3020.0</td>\n",
       "      <td>146.0</td>\n",
       "      <td>2020</td>\n",
       "      <td>127</td>\n",
       "      <td>74.26</td>\n",
       "    </tr>\n",
       "    <tr>\n",
       "      <th>1</th>\n",
       "      <td>Honor</td>\n",
       "      <td>Android</td>\n",
       "      <td>17.30</td>\n",
       "      <td>yes</td>\n",
       "      <td>yes</td>\n",
       "      <td>13.0</td>\n",
       "      <td>16.0</td>\n",
       "      <td>128.0</td>\n",
       "      <td>8.0</td>\n",
       "      <td>4300.0</td>\n",
       "      <td>213.0</td>\n",
       "      <td>2020</td>\n",
       "      <td>325</td>\n",
       "      <td>174.53</td>\n",
       "    </tr>\n",
       "    <tr>\n",
       "      <th>2</th>\n",
       "      <td>Honor</td>\n",
       "      <td>Android</td>\n",
       "      <td>16.69</td>\n",
       "      <td>yes</td>\n",
       "      <td>yes</td>\n",
       "      <td>13.0</td>\n",
       "      <td>8.0</td>\n",
       "      <td>128.0</td>\n",
       "      <td>8.0</td>\n",
       "      <td>4200.0</td>\n",
       "      <td>213.0</td>\n",
       "      <td>2020</td>\n",
       "      <td>162</td>\n",
       "      <td>165.85</td>\n",
       "    </tr>\n",
       "    <tr>\n",
       "      <th>3</th>\n",
       "      <td>Honor</td>\n",
       "      <td>Android</td>\n",
       "      <td>25.50</td>\n",
       "      <td>yes</td>\n",
       "      <td>yes</td>\n",
       "      <td>13.0</td>\n",
       "      <td>8.0</td>\n",
       "      <td>64.0</td>\n",
       "      <td>6.0</td>\n",
       "      <td>7250.0</td>\n",
       "      <td>480.0</td>\n",
       "      <td>2020</td>\n",
       "      <td>345</td>\n",
       "      <td>169.93</td>\n",
       "    </tr>\n",
       "    <tr>\n",
       "      <th>4</th>\n",
       "      <td>Honor</td>\n",
       "      <td>Android</td>\n",
       "      <td>15.32</td>\n",
       "      <td>yes</td>\n",
       "      <td>no</td>\n",
       "      <td>13.0</td>\n",
       "      <td>8.0</td>\n",
       "      <td>64.0</td>\n",
       "      <td>3.0</td>\n",
       "      <td>5000.0</td>\n",
       "      <td>185.0</td>\n",
       "      <td>2020</td>\n",
       "      <td>293</td>\n",
       "      <td>80.64</td>\n",
       "    </tr>\n",
       "    <tr>\n",
       "      <th>...</th>\n",
       "      <td>...</td>\n",
       "      <td>...</td>\n",
       "      <td>...</td>\n",
       "      <td>...</td>\n",
       "      <td>...</td>\n",
       "      <td>...</td>\n",
       "      <td>...</td>\n",
       "      <td>...</td>\n",
       "      <td>...</td>\n",
       "      <td>...</td>\n",
       "      <td>...</td>\n",
       "      <td>...</td>\n",
       "      <td>...</td>\n",
       "      <td>...</td>\n",
       "    </tr>\n",
       "    <tr>\n",
       "      <th>3449</th>\n",
       "      <td>Asus</td>\n",
       "      <td>Android</td>\n",
       "      <td>15.34</td>\n",
       "      <td>yes</td>\n",
       "      <td>no</td>\n",
       "      <td>NaN</td>\n",
       "      <td>8.0</td>\n",
       "      <td>64.0</td>\n",
       "      <td>6.0</td>\n",
       "      <td>5000.0</td>\n",
       "      <td>190.0</td>\n",
       "      <td>2019</td>\n",
       "      <td>232</td>\n",
       "      <td>89.33</td>\n",
       "    </tr>\n",
       "    <tr>\n",
       "      <th>3450</th>\n",
       "      <td>Asus</td>\n",
       "      <td>Android</td>\n",
       "      <td>15.24</td>\n",
       "      <td>yes</td>\n",
       "      <td>no</td>\n",
       "      <td>13.0</td>\n",
       "      <td>8.0</td>\n",
       "      <td>128.0</td>\n",
       "      <td>8.0</td>\n",
       "      <td>4000.0</td>\n",
       "      <td>200.0</td>\n",
       "      <td>2018</td>\n",
       "      <td>541</td>\n",
       "      <td>154.12</td>\n",
       "    </tr>\n",
       "    <tr>\n",
       "      <th>3451</th>\n",
       "      <td>Alcatel</td>\n",
       "      <td>Android</td>\n",
       "      <td>15.80</td>\n",
       "      <td>yes</td>\n",
       "      <td>no</td>\n",
       "      <td>13.0</td>\n",
       "      <td>5.0</td>\n",
       "      <td>32.0</td>\n",
       "      <td>3.0</td>\n",
       "      <td>4000.0</td>\n",
       "      <td>165.0</td>\n",
       "      <td>2020</td>\n",
       "      <td>201</td>\n",
       "      <td>78.05</td>\n",
       "    </tr>\n",
       "    <tr>\n",
       "      <th>3452</th>\n",
       "      <td>Alcatel</td>\n",
       "      <td>Android</td>\n",
       "      <td>15.80</td>\n",
       "      <td>yes</td>\n",
       "      <td>no</td>\n",
       "      <td>13.0</td>\n",
       "      <td>5.0</td>\n",
       "      <td>32.0</td>\n",
       "      <td>2.0</td>\n",
       "      <td>4000.0</td>\n",
       "      <td>160.0</td>\n",
       "      <td>2020</td>\n",
       "      <td>149</td>\n",
       "      <td>77.46</td>\n",
       "    </tr>\n",
       "    <tr>\n",
       "      <th>3453</th>\n",
       "      <td>Alcatel</td>\n",
       "      <td>Android</td>\n",
       "      <td>12.83</td>\n",
       "      <td>yes</td>\n",
       "      <td>no</td>\n",
       "      <td>13.0</td>\n",
       "      <td>5.0</td>\n",
       "      <td>16.0</td>\n",
       "      <td>2.0</td>\n",
       "      <td>4000.0</td>\n",
       "      <td>168.0</td>\n",
       "      <td>2020</td>\n",
       "      <td>176</td>\n",
       "      <td>62.31</td>\n",
       "    </tr>\n",
       "  </tbody>\n",
       "</table>\n",
       "<p>3454 rows × 14 columns</p>\n",
       "</div>"
      ],
      "text/plain": [
       "     brand_name       os  screen_size   4g   5g  main_camera_mp  \\\n",
       "0         Honor  Android        14.50  yes   no            13.0   \n",
       "1         Honor  Android        17.30  yes  yes            13.0   \n",
       "2         Honor  Android        16.69  yes  yes            13.0   \n",
       "3         Honor  Android        25.50  yes  yes            13.0   \n",
       "4         Honor  Android        15.32  yes   no            13.0   \n",
       "...         ...      ...          ...  ...  ...             ...   \n",
       "3449       Asus  Android        15.34  yes   no             NaN   \n",
       "3450       Asus  Android        15.24  yes   no            13.0   \n",
       "3451    Alcatel  Android        15.80  yes   no            13.0   \n",
       "3452    Alcatel  Android        15.80  yes   no            13.0   \n",
       "3453    Alcatel  Android        12.83  yes   no            13.0   \n",
       "\n",
       "      selfie_camera_mp  int_memory  ram  battery  weight  release_year  \\\n",
       "0                  5.0        64.0  3.0   3020.0   146.0          2020   \n",
       "1                 16.0       128.0  8.0   4300.0   213.0          2020   \n",
       "2                  8.0       128.0  8.0   4200.0   213.0          2020   \n",
       "3                  8.0        64.0  6.0   7250.0   480.0          2020   \n",
       "4                  8.0        64.0  3.0   5000.0   185.0          2020   \n",
       "...                ...         ...  ...      ...     ...           ...   \n",
       "3449               8.0        64.0  6.0   5000.0   190.0          2019   \n",
       "3450               8.0       128.0  8.0   4000.0   200.0          2018   \n",
       "3451               5.0        32.0  3.0   4000.0   165.0          2020   \n",
       "3452               5.0        32.0  2.0   4000.0   160.0          2020   \n",
       "3453               5.0        16.0  2.0   4000.0   168.0          2020   \n",
       "\n",
       "      days_used  used_price  \n",
       "0           127       74.26  \n",
       "1           325      174.53  \n",
       "2           162      165.85  \n",
       "3           345      169.93  \n",
       "4           293       80.64  \n",
       "...         ...         ...  \n",
       "3449        232       89.33  \n",
       "3450        541      154.12  \n",
       "3451        201       78.05  \n",
       "3452        149       77.46  \n",
       "3453        176       62.31  \n",
       "\n",
       "[3454 rows x 14 columns]"
      ]
     },
     "execution_count": 52,
     "metadata": {},
     "output_type": "execute_result"
    }
   ],
   "source": [
    "used_devices = pd.read_csv(\"used_device_data.csv\")\n",
    "used_devices"
   ]
  },
  {
   "cell_type": "code",
   "execution_count": 53,
   "id": "a4bd2757",
   "metadata": {},
   "outputs": [
    {
     "data": {
      "text/html": [
       "<div>\n",
       "<style scoped>\n",
       "    .dataframe tbody tr th:only-of-type {\n",
       "        vertical-align: middle;\n",
       "    }\n",
       "\n",
       "    .dataframe tbody tr th {\n",
       "        vertical-align: top;\n",
       "    }\n",
       "\n",
       "    .dataframe thead th {\n",
       "        text-align: right;\n",
       "    }\n",
       "</style>\n",
       "<table border=\"1\" class=\"dataframe\">\n",
       "  <thead>\n",
       "    <tr style=\"text-align: right;\">\n",
       "      <th></th>\n",
       "      <th>brand_name</th>\n",
       "      <th>os</th>\n",
       "      <th>screen_size</th>\n",
       "      <th>4g</th>\n",
       "      <th>5g</th>\n",
       "      <th>main_camera_mp</th>\n",
       "      <th>selfie_camera_mp</th>\n",
       "      <th>int_memory</th>\n",
       "      <th>ram</th>\n",
       "      <th>battery</th>\n",
       "      <th>weight</th>\n",
       "      <th>release_year</th>\n",
       "      <th>days_used</th>\n",
       "      <th>used_price</th>\n",
       "    </tr>\n",
       "  </thead>\n",
       "  <tbody>\n",
       "    <tr>\n",
       "      <th>0</th>\n",
       "      <td>Honor</td>\n",
       "      <td>Android</td>\n",
       "      <td>14.50</td>\n",
       "      <td>yes</td>\n",
       "      <td>no</td>\n",
       "      <td>13.0</td>\n",
       "      <td>5.0</td>\n",
       "      <td>64.0</td>\n",
       "      <td>3.0</td>\n",
       "      <td>3020.0</td>\n",
       "      <td>146.0</td>\n",
       "      <td>2020</td>\n",
       "      <td>127</td>\n",
       "      <td>74.26</td>\n",
       "    </tr>\n",
       "    <tr>\n",
       "      <th>1</th>\n",
       "      <td>Honor</td>\n",
       "      <td>Android</td>\n",
       "      <td>17.30</td>\n",
       "      <td>yes</td>\n",
       "      <td>yes</td>\n",
       "      <td>13.0</td>\n",
       "      <td>16.0</td>\n",
       "      <td>128.0</td>\n",
       "      <td>8.0</td>\n",
       "      <td>4300.0</td>\n",
       "      <td>213.0</td>\n",
       "      <td>2020</td>\n",
       "      <td>325</td>\n",
       "      <td>174.53</td>\n",
       "    </tr>\n",
       "    <tr>\n",
       "      <th>2</th>\n",
       "      <td>Honor</td>\n",
       "      <td>Android</td>\n",
       "      <td>16.69</td>\n",
       "      <td>yes</td>\n",
       "      <td>yes</td>\n",
       "      <td>13.0</td>\n",
       "      <td>8.0</td>\n",
       "      <td>128.0</td>\n",
       "      <td>8.0</td>\n",
       "      <td>4200.0</td>\n",
       "      <td>213.0</td>\n",
       "      <td>2020</td>\n",
       "      <td>162</td>\n",
       "      <td>165.85</td>\n",
       "    </tr>\n",
       "    <tr>\n",
       "      <th>3</th>\n",
       "      <td>Honor</td>\n",
       "      <td>Android</td>\n",
       "      <td>25.50</td>\n",
       "      <td>yes</td>\n",
       "      <td>yes</td>\n",
       "      <td>13.0</td>\n",
       "      <td>8.0</td>\n",
       "      <td>64.0</td>\n",
       "      <td>6.0</td>\n",
       "      <td>7250.0</td>\n",
       "      <td>480.0</td>\n",
       "      <td>2020</td>\n",
       "      <td>345</td>\n",
       "      <td>169.93</td>\n",
       "    </tr>\n",
       "    <tr>\n",
       "      <th>4</th>\n",
       "      <td>Honor</td>\n",
       "      <td>Android</td>\n",
       "      <td>15.32</td>\n",
       "      <td>yes</td>\n",
       "      <td>no</td>\n",
       "      <td>13.0</td>\n",
       "      <td>8.0</td>\n",
       "      <td>64.0</td>\n",
       "      <td>3.0</td>\n",
       "      <td>5000.0</td>\n",
       "      <td>185.0</td>\n",
       "      <td>2020</td>\n",
       "      <td>293</td>\n",
       "      <td>80.64</td>\n",
       "    </tr>\n",
       "  </tbody>\n",
       "</table>\n",
       "</div>"
      ],
      "text/plain": [
       "  brand_name       os  screen_size   4g   5g  main_camera_mp  \\\n",
       "0      Honor  Android        14.50  yes   no            13.0   \n",
       "1      Honor  Android        17.30  yes  yes            13.0   \n",
       "2      Honor  Android        16.69  yes  yes            13.0   \n",
       "3      Honor  Android        25.50  yes  yes            13.0   \n",
       "4      Honor  Android        15.32  yes   no            13.0   \n",
       "\n",
       "   selfie_camera_mp  int_memory  ram  battery  weight  release_year  \\\n",
       "0               5.0        64.0  3.0   3020.0   146.0          2020   \n",
       "1              16.0       128.0  8.0   4300.0   213.0          2020   \n",
       "2               8.0       128.0  8.0   4200.0   213.0          2020   \n",
       "3               8.0        64.0  6.0   7250.0   480.0          2020   \n",
       "4               8.0        64.0  3.0   5000.0   185.0          2020   \n",
       "\n",
       "   days_used  used_price  \n",
       "0        127       74.26  \n",
       "1        325      174.53  \n",
       "2        162      165.85  \n",
       "3        345      169.93  \n",
       "4        293       80.64  "
      ]
     },
     "execution_count": 53,
     "metadata": {},
     "output_type": "execute_result"
    }
   ],
   "source": [
    "# shows the first five rows\n",
    "used_devices.head()"
   ]
  },
  {
   "cell_type": "code",
   "execution_count": 54,
   "id": "0a359bd8",
   "metadata": {},
   "outputs": [
    {
     "data": {
      "text/plain": [
       "(3454, 14)"
      ]
     },
     "execution_count": 54,
     "metadata": {},
     "output_type": "execute_result"
    }
   ],
   "source": [
    "# shows the size of dataset in rows and columns\n",
    "used_devices.shape"
   ]
  },
  {
   "cell_type": "code",
   "execution_count": 55,
   "id": "8490452e",
   "metadata": {},
   "outputs": [
    {
     "name": "stdout",
     "output_type": "stream",
     "text": [
      "<class 'pandas.core.frame.DataFrame'>\n",
      "RangeIndex: 3454 entries, 0 to 3453\n",
      "Data columns (total 14 columns):\n",
      " #   Column            Non-Null Count  Dtype  \n",
      "---  ------            --------------  -----  \n",
      " 0   brand_name        3454 non-null   object \n",
      " 1   os                3454 non-null   object \n",
      " 2   screen_size       3454 non-null   float64\n",
      " 3   4g                3454 non-null   object \n",
      " 4   5g                3454 non-null   object \n",
      " 5   main_camera_mp    3275 non-null   float64\n",
      " 6   selfie_camera_mp  3452 non-null   float64\n",
      " 7   int_memory        3450 non-null   float64\n",
      " 8   ram               3450 non-null   float64\n",
      " 9   battery           3448 non-null   float64\n",
      " 10  weight            3447 non-null   float64\n",
      " 11  release_year      3454 non-null   int64  \n",
      " 12  days_used         3454 non-null   int64  \n",
      " 13  used_price        3454 non-null   float64\n",
      "dtypes: float64(8), int64(2), object(4)\n",
      "memory usage: 377.9+ KB\n"
     ]
    }
   ],
   "source": [
    "# shows a detail summary of dataset\n",
    "used_devices.info()"
   ]
  },
  {
   "cell_type": "code",
   "execution_count": 89,
   "id": "19b297aa",
   "metadata": {},
   "outputs": [
    {
     "data": {
      "text/plain": [
       "array(['Honor', 'Others', 'HTC', 'Huawei', 'Infinix', 'Lava', 'Lenovo',\n",
       "       'LG', 'Meizu', 'Micromax', 'Motorola', 'Nokia', 'OnePlus', 'Oppo',\n",
       "       'Realme', 'Samsung', 'Vivo', 'Xiaomi', 'ZTE', 'Apple', 'Asus',\n",
       "       'Coolpad', 'Acer', 'Alcatel', 'BlackBerry', 'Celkon', 'Gionee',\n",
       "       'Google', 'Karbonn', 'Microsoft', 'Panasonic', 'Sony', 'Spice',\n",
       "       'XOLO'], dtype=object)"
      ]
     },
     "execution_count": 89,
     "metadata": {},
     "output_type": "execute_result"
    }
   ],
   "source": [
    "used_devices['brand_name'].unique()"
   ]
  },
  {
   "cell_type": "code",
   "execution_count": 57,
   "id": "805c4247",
   "metadata": {},
   "outputs": [
    {
     "data": {
      "text/html": [
       "<div>\n",
       "<style scoped>\n",
       "    .dataframe tbody tr th:only-of-type {\n",
       "        vertical-align: middle;\n",
       "    }\n",
       "\n",
       "    .dataframe tbody tr th {\n",
       "        vertical-align: top;\n",
       "    }\n",
       "\n",
       "    .dataframe thead th {\n",
       "        text-align: right;\n",
       "    }\n",
       "</style>\n",
       "<table border=\"1\" class=\"dataframe\">\n",
       "  <thead>\n",
       "    <tr style=\"text-align: right;\">\n",
       "      <th></th>\n",
       "      <th>screen_size</th>\n",
       "      <th>main_camera_mp</th>\n",
       "      <th>selfie_camera_mp</th>\n",
       "      <th>int_memory</th>\n",
       "      <th>ram</th>\n",
       "      <th>battery</th>\n",
       "      <th>weight</th>\n",
       "      <th>release_year</th>\n",
       "      <th>days_used</th>\n",
       "      <th>used_price</th>\n",
       "    </tr>\n",
       "  </thead>\n",
       "  <tbody>\n",
       "    <tr>\n",
       "      <th>count</th>\n",
       "      <td>3454.000000</td>\n",
       "      <td>3275.000000</td>\n",
       "      <td>3452.000000</td>\n",
       "      <td>3450.000000</td>\n",
       "      <td>3450.000000</td>\n",
       "      <td>3448.000000</td>\n",
       "      <td>3447.000000</td>\n",
       "      <td>3454.000000</td>\n",
       "      <td>3454.000000</td>\n",
       "      <td>3454.000000</td>\n",
       "    </tr>\n",
       "    <tr>\n",
       "      <th>mean</th>\n",
       "      <td>13.713115</td>\n",
       "      <td>9.460208</td>\n",
       "      <td>6.554229</td>\n",
       "      <td>54.573099</td>\n",
       "      <td>4.036122</td>\n",
       "      <td>3133.402697</td>\n",
       "      <td>182.751871</td>\n",
       "      <td>2015.965258</td>\n",
       "      <td>674.869716</td>\n",
       "      <td>92.302936</td>\n",
       "    </tr>\n",
       "    <tr>\n",
       "      <th>std</th>\n",
       "      <td>3.805280</td>\n",
       "      <td>4.815461</td>\n",
       "      <td>6.970372</td>\n",
       "      <td>84.972371</td>\n",
       "      <td>1.365105</td>\n",
       "      <td>1299.682844</td>\n",
       "      <td>88.413228</td>\n",
       "      <td>2.298455</td>\n",
       "      <td>248.580166</td>\n",
       "      <td>54.701648</td>\n",
       "    </tr>\n",
       "    <tr>\n",
       "      <th>min</th>\n",
       "      <td>5.080000</td>\n",
       "      <td>0.080000</td>\n",
       "      <td>0.000000</td>\n",
       "      <td>0.010000</td>\n",
       "      <td>0.020000</td>\n",
       "      <td>500.000000</td>\n",
       "      <td>69.000000</td>\n",
       "      <td>2013.000000</td>\n",
       "      <td>91.000000</td>\n",
       "      <td>4.650000</td>\n",
       "    </tr>\n",
       "    <tr>\n",
       "      <th>25%</th>\n",
       "      <td>12.700000</td>\n",
       "      <td>5.000000</td>\n",
       "      <td>2.000000</td>\n",
       "      <td>16.000000</td>\n",
       "      <td>4.000000</td>\n",
       "      <td>2100.000000</td>\n",
       "      <td>142.000000</td>\n",
       "      <td>2014.000000</td>\n",
       "      <td>533.500000</td>\n",
       "      <td>56.482500</td>\n",
       "    </tr>\n",
       "    <tr>\n",
       "      <th>50%</th>\n",
       "      <td>12.830000</td>\n",
       "      <td>8.000000</td>\n",
       "      <td>5.000000</td>\n",
       "      <td>32.000000</td>\n",
       "      <td>4.000000</td>\n",
       "      <td>3000.000000</td>\n",
       "      <td>160.000000</td>\n",
       "      <td>2015.500000</td>\n",
       "      <td>690.500000</td>\n",
       "      <td>81.870000</td>\n",
       "    </tr>\n",
       "    <tr>\n",
       "      <th>75%</th>\n",
       "      <td>15.340000</td>\n",
       "      <td>13.000000</td>\n",
       "      <td>8.000000</td>\n",
       "      <td>64.000000</td>\n",
       "      <td>4.000000</td>\n",
       "      <td>4000.000000</td>\n",
       "      <td>185.000000</td>\n",
       "      <td>2018.000000</td>\n",
       "      <td>868.750000</td>\n",
       "      <td>116.245000</td>\n",
       "    </tr>\n",
       "    <tr>\n",
       "      <th>max</th>\n",
       "      <td>30.710000</td>\n",
       "      <td>48.000000</td>\n",
       "      <td>32.000000</td>\n",
       "      <td>1024.000000</td>\n",
       "      <td>12.000000</td>\n",
       "      <td>9720.000000</td>\n",
       "      <td>855.000000</td>\n",
       "      <td>2020.000000</td>\n",
       "      <td>1094.000000</td>\n",
       "      <td>749.520000</td>\n",
       "    </tr>\n",
       "  </tbody>\n",
       "</table>\n",
       "</div>"
      ],
      "text/plain": [
       "       screen_size  main_camera_mp  selfie_camera_mp   int_memory  \\\n",
       "count  3454.000000     3275.000000       3452.000000  3450.000000   \n",
       "mean     13.713115        9.460208          6.554229    54.573099   \n",
       "std       3.805280        4.815461          6.970372    84.972371   \n",
       "min       5.080000        0.080000          0.000000     0.010000   \n",
       "25%      12.700000        5.000000          2.000000    16.000000   \n",
       "50%      12.830000        8.000000          5.000000    32.000000   \n",
       "75%      15.340000       13.000000          8.000000    64.000000   \n",
       "max      30.710000       48.000000         32.000000  1024.000000   \n",
       "\n",
       "               ram      battery       weight  release_year    days_used  \\\n",
       "count  3450.000000  3448.000000  3447.000000   3454.000000  3454.000000   \n",
       "mean      4.036122  3133.402697   182.751871   2015.965258   674.869716   \n",
       "std       1.365105  1299.682844    88.413228      2.298455   248.580166   \n",
       "min       0.020000   500.000000    69.000000   2013.000000    91.000000   \n",
       "25%       4.000000  2100.000000   142.000000   2014.000000   533.500000   \n",
       "50%       4.000000  3000.000000   160.000000   2015.500000   690.500000   \n",
       "75%       4.000000  4000.000000   185.000000   2018.000000   868.750000   \n",
       "max      12.000000  9720.000000   855.000000   2020.000000  1094.000000   \n",
       "\n",
       "        used_price  \n",
       "count  3454.000000  \n",
       "mean     92.302936  \n",
       "std      54.701648  \n",
       "min       4.650000  \n",
       "25%      56.482500  \n",
       "50%      81.870000  \n",
       "75%     116.245000  \n",
       "max     749.520000  "
      ]
     },
     "execution_count": 57,
     "metadata": {},
     "output_type": "execute_result"
    }
   ],
   "source": [
    "# summary statistics\n",
    "used_devices.describe()"
   ]
  },
  {
   "cell_type": "code",
   "execution_count": null,
   "id": "4d4a0ef1",
   "metadata": {},
   "outputs": [],
   "source": []
  },
  {
   "cell_type": "markdown",
   "id": "fb20b2d6",
   "metadata": {},
   "source": [
    "# Preparing Dataset\n",
    "- cleaning\n",
    "- removing errors(duplicates)\n"
   ]
  },
  {
   "cell_type": "code",
   "execution_count": 58,
   "id": "3eb171f7",
   "metadata": {},
   "outputs": [
    {
     "data": {
      "text/plain": [
       "brand_name            0\n",
       "os                    0\n",
       "screen_size           0\n",
       "4g                    0\n",
       "5g                    0\n",
       "main_camera_mp      179\n",
       "selfie_camera_mp      2\n",
       "int_memory            4\n",
       "ram                   4\n",
       "battery               6\n",
       "weight                7\n",
       "release_year          0\n",
       "days_used             0\n",
       "used_price            0\n",
       "dtype: int64"
      ]
     },
     "execution_count": 58,
     "metadata": {},
     "output_type": "execute_result"
    }
   ],
   "source": [
    "# shows(sum of) empty cells in dataset\n",
    "used_devices.isnull().sum()"
   ]
  },
  {
   "cell_type": "markdown",
   "id": "5fda2d81",
   "metadata": {},
   "source": [
    "## Finding Mean Value for Null Columns\n",
    "- Here we are finding the mean for only columns with Null values\n",
    "    * main_camera_mp\n",
    "    * selfie_camera_mp\n",
    "    * int_memory\n",
    "    * ram\n",
    "    * battery\n",
    "    * weight"
   ]
  },
  {
   "cell_type": "code",
   "execution_count": 59,
   "id": "191c7ca3",
   "metadata": {},
   "outputs": [
    {
     "data": {
      "text/plain": [
       "9.0"
      ]
     },
     "execution_count": 59,
     "metadata": {},
     "output_type": "execute_result"
    }
   ],
   "source": [
    "# main_camera_mp mean\n",
    "used_devices['main_camera_mp'].mean()\n",
    "main_camera_mean = round(used_devices['main_camera_mp'].mean(), 0)\n",
    "main_camera_mean"
   ]
  },
  {
   "cell_type": "code",
   "execution_count": 60,
   "id": "c04411cf",
   "metadata": {},
   "outputs": [
    {
     "data": {
      "text/plain": [
       "7.0"
      ]
     },
     "execution_count": 60,
     "metadata": {},
     "output_type": "execute_result"
    }
   ],
   "source": [
    "# selfie_camera_mp mean\n",
    "used_devices['selfie_camera_mp'].mean()\n",
    "selfie_camera_mp_mean = round(used_devices['selfie_camera_mp'].mean(), 0)\n",
    "selfie_camera_mp_mean"
   ]
  },
  {
   "cell_type": "code",
   "execution_count": 61,
   "id": "3d98f5be",
   "metadata": {},
   "outputs": [
    {
     "data": {
      "text/plain": [
       "55.0"
      ]
     },
     "execution_count": 61,
     "metadata": {},
     "output_type": "execute_result"
    }
   ],
   "source": [
    "# int_memory mean\n",
    "used_devices['int_memory'].mean()\n",
    "int_memory_mean = round(used_devices['int_memory'].mean(), 0)\n",
    "int_memory_mean"
   ]
  },
  {
   "cell_type": "code",
   "execution_count": 62,
   "id": "4ea1e01f",
   "metadata": {},
   "outputs": [
    {
     "data": {
      "text/plain": [
       "4.0"
      ]
     },
     "execution_count": 62,
     "metadata": {},
     "output_type": "execute_result"
    }
   ],
   "source": [
    "# ram mean\n",
    "used_devices['ram'].mean()\n",
    "ram_mean = round(used_devices['ram'].mean(), 0)\n",
    "ram_mean"
   ]
  },
  {
   "cell_type": "code",
   "execution_count": 63,
   "id": "d96ae600",
   "metadata": {},
   "outputs": [
    {
     "data": {
      "text/plain": [
       "3133.0"
      ]
     },
     "execution_count": 63,
     "metadata": {},
     "output_type": "execute_result"
    }
   ],
   "source": [
    "# battery mean\n",
    "used_devices['battery'].mean()\n",
    "battery_mean = round(used_devices['battery'].mean(), 0)\n",
    "battery_mean"
   ]
  },
  {
   "cell_type": "code",
   "execution_count": 64,
   "id": "252bffb9",
   "metadata": {},
   "outputs": [
    {
     "data": {
      "text/plain": [
       "183.0"
      ]
     },
     "execution_count": 64,
     "metadata": {},
     "output_type": "execute_result"
    }
   ],
   "source": [
    "# weight\n",
    "used_devices['weight'].mean()\n",
    "weight_mean = round(used_devices['weight'].mean(), 0)\n",
    "weight_mean"
   ]
  },
  {
   "cell_type": "markdown",
   "id": "6712b904",
   "metadata": {},
   "source": [
    "### Replacing Null Values with Mean Value\n",
    "- Here we are handling all cells with null values to make our dataset consistent"
   ]
  },
  {
   "cell_type": "code",
   "execution_count": 65,
   "id": "75cfec02",
   "metadata": {},
   "outputs": [],
   "source": [
    "used_devices['main_camera_mp'].fillna(main_camera_mean, inplace = True)\n",
    "used_devices['selfie_camera_mp'].fillna(selfie_camera_mp_mean, inplace = True)\n",
    "used_devices['int_memory'].fillna(int_memory_mean, inplace = True)\n",
    "used_devices['ram'].fillna(ram_mean, inplace = True)\n",
    "used_devices['battery'].fillna(battery_mean, inplace = True)\n",
    "used_devices['weight'].fillna(weight_mean, inplace = True)"
   ]
  },
  {
   "cell_type": "code",
   "execution_count": 66,
   "id": "f9b59da1",
   "metadata": {},
   "outputs": [
    {
     "data": {
      "text/plain": [
       "0"
      ]
     },
     "execution_count": 66,
     "metadata": {},
     "output_type": "execute_result"
    }
   ],
   "source": [
    "# Checking for duplicates\n",
    "used_devices.duplicated().sum()"
   ]
  },
  {
   "cell_type": "code",
   "execution_count": 67,
   "id": "5917661e",
   "metadata": {},
   "outputs": [
    {
     "data": {
      "text/plain": [
       "brand_name          0\n",
       "os                  0\n",
       "screen_size         0\n",
       "4g                  0\n",
       "5g                  0\n",
       "main_camera_mp      0\n",
       "selfie_camera_mp    0\n",
       "int_memory          0\n",
       "ram                 0\n",
       "battery             0\n",
       "weight              0\n",
       "release_year        0\n",
       "days_used           0\n",
       "used_price          0\n",
       "dtype: int64"
      ]
     },
     "execution_count": 67,
     "metadata": {},
     "output_type": "execute_result"
    }
   ],
   "source": [
    "used_devices.isnull().sum()"
   ]
  },
  {
   "cell_type": "markdown",
   "id": "62c0a3bc",
   "metadata": {},
   "source": [
    "### Splitting Dataset into Categorical & Numerical\n",
    "- Here we separating dataset base on Dtype in other to prevent errors in future numerical operations.\n",
    "- And for making accurate analysis on dataset."
   ]
  },
  {
   "cell_type": "code",
   "execution_count": 68,
   "id": "59361219",
   "metadata": {},
   "outputs": [],
   "source": [
    "categorical_data = ['brand_name', 'os', '4g', '5g']\n",
    "\n",
    "numerical_data = ['screen_size', 'main_camera_mp', 'selfie_camera_mp', 'int_memory', 'ram',\n",
    "                  'battery', 'weight', 'release_year', 'days_used', 'used_price'\n",
    "                 ]\n"
   ]
  },
  {
   "cell_type": "code",
   "execution_count": 69,
   "id": "843cbcec",
   "metadata": {},
   "outputs": [],
   "source": [
    "categorical_df = used_devices[categorical_data]\n",
    "numerical_df = used_devices[numerical_data]"
   ]
  },
  {
   "cell_type": "code",
   "execution_count": 70,
   "id": "71e8b37c",
   "metadata": {},
   "outputs": [
    {
     "data": {
      "text/html": [
       "<div>\n",
       "<style scoped>\n",
       "    .dataframe tbody tr th:only-of-type {\n",
       "        vertical-align: middle;\n",
       "    }\n",
       "\n",
       "    .dataframe tbody tr th {\n",
       "        vertical-align: top;\n",
       "    }\n",
       "\n",
       "    .dataframe thead th {\n",
       "        text-align: right;\n",
       "    }\n",
       "</style>\n",
       "<table border=\"1\" class=\"dataframe\">\n",
       "  <thead>\n",
       "    <tr style=\"text-align: right;\">\n",
       "      <th></th>\n",
       "      <th>brand_name</th>\n",
       "      <th>os</th>\n",
       "      <th>4g</th>\n",
       "      <th>5g</th>\n",
       "    </tr>\n",
       "  </thead>\n",
       "  <tbody>\n",
       "    <tr>\n",
       "      <th>0</th>\n",
       "      <td>Honor</td>\n",
       "      <td>Android</td>\n",
       "      <td>yes</td>\n",
       "      <td>no</td>\n",
       "    </tr>\n",
       "    <tr>\n",
       "      <th>1</th>\n",
       "      <td>Honor</td>\n",
       "      <td>Android</td>\n",
       "      <td>yes</td>\n",
       "      <td>yes</td>\n",
       "    </tr>\n",
       "    <tr>\n",
       "      <th>2</th>\n",
       "      <td>Honor</td>\n",
       "      <td>Android</td>\n",
       "      <td>yes</td>\n",
       "      <td>yes</td>\n",
       "    </tr>\n",
       "    <tr>\n",
       "      <th>3</th>\n",
       "      <td>Honor</td>\n",
       "      <td>Android</td>\n",
       "      <td>yes</td>\n",
       "      <td>yes</td>\n",
       "    </tr>\n",
       "    <tr>\n",
       "      <th>4</th>\n",
       "      <td>Honor</td>\n",
       "      <td>Android</td>\n",
       "      <td>yes</td>\n",
       "      <td>no</td>\n",
       "    </tr>\n",
       "  </tbody>\n",
       "</table>\n",
       "</div>"
      ],
      "text/plain": [
       "  brand_name       os   4g   5g\n",
       "0      Honor  Android  yes   no\n",
       "1      Honor  Android  yes  yes\n",
       "2      Honor  Android  yes  yes\n",
       "3      Honor  Android  yes  yes\n",
       "4      Honor  Android  yes   no"
      ]
     },
     "execution_count": 70,
     "metadata": {},
     "output_type": "execute_result"
    }
   ],
   "source": [
    "categorical_df.head()"
   ]
  },
  {
   "cell_type": "code",
   "execution_count": 71,
   "id": "16809e27",
   "metadata": {},
   "outputs": [
    {
     "data": {
      "text/html": [
       "<div>\n",
       "<style scoped>\n",
       "    .dataframe tbody tr th:only-of-type {\n",
       "        vertical-align: middle;\n",
       "    }\n",
       "\n",
       "    .dataframe tbody tr th {\n",
       "        vertical-align: top;\n",
       "    }\n",
       "\n",
       "    .dataframe thead th {\n",
       "        text-align: right;\n",
       "    }\n",
       "</style>\n",
       "<table border=\"1\" class=\"dataframe\">\n",
       "  <thead>\n",
       "    <tr style=\"text-align: right;\">\n",
       "      <th></th>\n",
       "      <th>screen_size</th>\n",
       "      <th>main_camera_mp</th>\n",
       "      <th>selfie_camera_mp</th>\n",
       "      <th>int_memory</th>\n",
       "      <th>ram</th>\n",
       "      <th>battery</th>\n",
       "      <th>weight</th>\n",
       "      <th>release_year</th>\n",
       "      <th>days_used</th>\n",
       "      <th>used_price</th>\n",
       "    </tr>\n",
       "  </thead>\n",
       "  <tbody>\n",
       "    <tr>\n",
       "      <th>0</th>\n",
       "      <td>14.50</td>\n",
       "      <td>13.0</td>\n",
       "      <td>5.0</td>\n",
       "      <td>64.0</td>\n",
       "      <td>3.0</td>\n",
       "      <td>3020.0</td>\n",
       "      <td>146.0</td>\n",
       "      <td>2020</td>\n",
       "      <td>127</td>\n",
       "      <td>74.26</td>\n",
       "    </tr>\n",
       "    <tr>\n",
       "      <th>1</th>\n",
       "      <td>17.30</td>\n",
       "      <td>13.0</td>\n",
       "      <td>16.0</td>\n",
       "      <td>128.0</td>\n",
       "      <td>8.0</td>\n",
       "      <td>4300.0</td>\n",
       "      <td>213.0</td>\n",
       "      <td>2020</td>\n",
       "      <td>325</td>\n",
       "      <td>174.53</td>\n",
       "    </tr>\n",
       "    <tr>\n",
       "      <th>2</th>\n",
       "      <td>16.69</td>\n",
       "      <td>13.0</td>\n",
       "      <td>8.0</td>\n",
       "      <td>128.0</td>\n",
       "      <td>8.0</td>\n",
       "      <td>4200.0</td>\n",
       "      <td>213.0</td>\n",
       "      <td>2020</td>\n",
       "      <td>162</td>\n",
       "      <td>165.85</td>\n",
       "    </tr>\n",
       "    <tr>\n",
       "      <th>3</th>\n",
       "      <td>25.50</td>\n",
       "      <td>13.0</td>\n",
       "      <td>8.0</td>\n",
       "      <td>64.0</td>\n",
       "      <td>6.0</td>\n",
       "      <td>7250.0</td>\n",
       "      <td>480.0</td>\n",
       "      <td>2020</td>\n",
       "      <td>345</td>\n",
       "      <td>169.93</td>\n",
       "    </tr>\n",
       "    <tr>\n",
       "      <th>4</th>\n",
       "      <td>15.32</td>\n",
       "      <td>13.0</td>\n",
       "      <td>8.0</td>\n",
       "      <td>64.0</td>\n",
       "      <td>3.0</td>\n",
       "      <td>5000.0</td>\n",
       "      <td>185.0</td>\n",
       "      <td>2020</td>\n",
       "      <td>293</td>\n",
       "      <td>80.64</td>\n",
       "    </tr>\n",
       "  </tbody>\n",
       "</table>\n",
       "</div>"
      ],
      "text/plain": [
       "   screen_size  main_camera_mp  selfie_camera_mp  int_memory  ram  battery  \\\n",
       "0        14.50            13.0               5.0        64.0  3.0   3020.0   \n",
       "1        17.30            13.0              16.0       128.0  8.0   4300.0   \n",
       "2        16.69            13.0               8.0       128.0  8.0   4200.0   \n",
       "3        25.50            13.0               8.0        64.0  6.0   7250.0   \n",
       "4        15.32            13.0               8.0        64.0  3.0   5000.0   \n",
       "\n",
       "   weight  release_year  days_used  used_price  \n",
       "0   146.0          2020        127       74.26  \n",
       "1   213.0          2020        325      174.53  \n",
       "2   213.0          2020        162      165.85  \n",
       "3   480.0          2020        345      169.93  \n",
       "4   185.0          2020        293       80.64  "
      ]
     },
     "execution_count": 71,
     "metadata": {},
     "output_type": "execute_result"
    }
   ],
   "source": [
    "numerical_df.head()"
   ]
  },
  {
   "cell_type": "code",
   "execution_count": 72,
   "id": "b14bc721",
   "metadata": {},
   "outputs": [
    {
     "data": {
      "text/plain": [
       "(3454, 10)"
      ]
     },
     "execution_count": 72,
     "metadata": {},
     "output_type": "execute_result"
    }
   ],
   "source": [
    "numerical_df.shape"
   ]
  },
  {
   "cell_type": "code",
   "execution_count": 73,
   "id": "c171211e",
   "metadata": {},
   "outputs": [
    {
     "data": {
      "text/plain": [
       "(3454, 4)"
      ]
     },
     "execution_count": 73,
     "metadata": {},
     "output_type": "execute_result"
    }
   ],
   "source": [
    "categorical_df.shape"
   ]
  },
  {
   "cell_type": "markdown",
   "id": "c726b4ee",
   "metadata": {},
   "source": [
    "# Descriptive Analysis"
   ]
  },
  {
   "cell_type": "code",
   "execution_count": 74,
   "id": "5aff676c",
   "metadata": {},
   "outputs": [
    {
     "data": {
      "text/html": [
       "<div>\n",
       "<style scoped>\n",
       "    .dataframe tbody tr th:only-of-type {\n",
       "        vertical-align: middle;\n",
       "    }\n",
       "\n",
       "    .dataframe tbody tr th {\n",
       "        vertical-align: top;\n",
       "    }\n",
       "\n",
       "    .dataframe thead th {\n",
       "        text-align: right;\n",
       "    }\n",
       "</style>\n",
       "<table border=\"1\" class=\"dataframe\">\n",
       "  <thead>\n",
       "    <tr style=\"text-align: right;\">\n",
       "      <th></th>\n",
       "      <th>screen_size</th>\n",
       "      <th>main_camera_mp</th>\n",
       "      <th>selfie_camera_mp</th>\n",
       "      <th>int_memory</th>\n",
       "      <th>ram</th>\n",
       "      <th>battery</th>\n",
       "      <th>weight</th>\n",
       "      <th>release_year</th>\n",
       "      <th>days_used</th>\n",
       "      <th>used_price</th>\n",
       "    </tr>\n",
       "  </thead>\n",
       "  <tbody>\n",
       "    <tr>\n",
       "      <th>count</th>\n",
       "      <td>3454.000000</td>\n",
       "      <td>3454.000000</td>\n",
       "      <td>3454.000000</td>\n",
       "      <td>3454.000000</td>\n",
       "      <td>3454.000000</td>\n",
       "      <td>3454.000000</td>\n",
       "      <td>3454.000000</td>\n",
       "      <td>3454.000000</td>\n",
       "      <td>3454.000000</td>\n",
       "      <td>3454.000000</td>\n",
       "    </tr>\n",
       "    <tr>\n",
       "      <th>mean</th>\n",
       "      <td>13.713115</td>\n",
       "      <td>9.436358</td>\n",
       "      <td>6.554488</td>\n",
       "      <td>54.573593</td>\n",
       "      <td>4.036080</td>\n",
       "      <td>3133.401998</td>\n",
       "      <td>182.752374</td>\n",
       "      <td>2015.965258</td>\n",
       "      <td>674.869716</td>\n",
       "      <td>92.302936</td>\n",
       "    </tr>\n",
       "    <tr>\n",
       "      <th>std</th>\n",
       "      <td>3.805280</td>\n",
       "      <td>4.690096</td>\n",
       "      <td>6.968361</td>\n",
       "      <td>84.923141</td>\n",
       "      <td>1.364314</td>\n",
       "      <td>1298.553176</td>\n",
       "      <td>88.323566</td>\n",
       "      <td>2.298455</td>\n",
       "      <td>248.580166</td>\n",
       "      <td>54.701648</td>\n",
       "    </tr>\n",
       "    <tr>\n",
       "      <th>min</th>\n",
       "      <td>5.080000</td>\n",
       "      <td>0.080000</td>\n",
       "      <td>0.000000</td>\n",
       "      <td>0.010000</td>\n",
       "      <td>0.020000</td>\n",
       "      <td>500.000000</td>\n",
       "      <td>69.000000</td>\n",
       "      <td>2013.000000</td>\n",
       "      <td>91.000000</td>\n",
       "      <td>4.650000</td>\n",
       "    </tr>\n",
       "    <tr>\n",
       "      <th>25%</th>\n",
       "      <td>12.700000</td>\n",
       "      <td>5.000000</td>\n",
       "      <td>2.000000</td>\n",
       "      <td>16.000000</td>\n",
       "      <td>4.000000</td>\n",
       "      <td>2100.000000</td>\n",
       "      <td>142.000000</td>\n",
       "      <td>2014.000000</td>\n",
       "      <td>533.500000</td>\n",
       "      <td>56.482500</td>\n",
       "    </tr>\n",
       "    <tr>\n",
       "      <th>50%</th>\n",
       "      <td>12.830000</td>\n",
       "      <td>9.000000</td>\n",
       "      <td>5.000000</td>\n",
       "      <td>32.000000</td>\n",
       "      <td>4.000000</td>\n",
       "      <td>3000.000000</td>\n",
       "      <td>160.000000</td>\n",
       "      <td>2015.500000</td>\n",
       "      <td>690.500000</td>\n",
       "      <td>81.870000</td>\n",
       "    </tr>\n",
       "    <tr>\n",
       "      <th>75%</th>\n",
       "      <td>15.340000</td>\n",
       "      <td>13.000000</td>\n",
       "      <td>8.000000</td>\n",
       "      <td>64.000000</td>\n",
       "      <td>4.000000</td>\n",
       "      <td>4000.000000</td>\n",
       "      <td>185.000000</td>\n",
       "      <td>2018.000000</td>\n",
       "      <td>868.750000</td>\n",
       "      <td>116.245000</td>\n",
       "    </tr>\n",
       "    <tr>\n",
       "      <th>max</th>\n",
       "      <td>30.710000</td>\n",
       "      <td>48.000000</td>\n",
       "      <td>32.000000</td>\n",
       "      <td>1024.000000</td>\n",
       "      <td>12.000000</td>\n",
       "      <td>9720.000000</td>\n",
       "      <td>855.000000</td>\n",
       "      <td>2020.000000</td>\n",
       "      <td>1094.000000</td>\n",
       "      <td>749.520000</td>\n",
       "    </tr>\n",
       "  </tbody>\n",
       "</table>\n",
       "</div>"
      ],
      "text/plain": [
       "       screen_size  main_camera_mp  selfie_camera_mp   int_memory  \\\n",
       "count  3454.000000     3454.000000       3454.000000  3454.000000   \n",
       "mean     13.713115        9.436358          6.554488    54.573593   \n",
       "std       3.805280        4.690096          6.968361    84.923141   \n",
       "min       5.080000        0.080000          0.000000     0.010000   \n",
       "25%      12.700000        5.000000          2.000000    16.000000   \n",
       "50%      12.830000        9.000000          5.000000    32.000000   \n",
       "75%      15.340000       13.000000          8.000000    64.000000   \n",
       "max      30.710000       48.000000         32.000000  1024.000000   \n",
       "\n",
       "               ram      battery       weight  release_year    days_used  \\\n",
       "count  3454.000000  3454.000000  3454.000000   3454.000000  3454.000000   \n",
       "mean      4.036080  3133.401998   182.752374   2015.965258   674.869716   \n",
       "std       1.364314  1298.553176    88.323566      2.298455   248.580166   \n",
       "min       0.020000   500.000000    69.000000   2013.000000    91.000000   \n",
       "25%       4.000000  2100.000000   142.000000   2014.000000   533.500000   \n",
       "50%       4.000000  3000.000000   160.000000   2015.500000   690.500000   \n",
       "75%       4.000000  4000.000000   185.000000   2018.000000   868.750000   \n",
       "max      12.000000  9720.000000   855.000000   2020.000000  1094.000000   \n",
       "\n",
       "        used_price  \n",
       "count  3454.000000  \n",
       "mean     92.302936  \n",
       "std      54.701648  \n",
       "min       4.650000  \n",
       "25%      56.482500  \n",
       "50%      81.870000  \n",
       "75%     116.245000  \n",
       "max     749.520000  "
      ]
     },
     "execution_count": 74,
     "metadata": {},
     "output_type": "execute_result"
    }
   ],
   "source": [
    "# summary statistics\n",
    "numerical_df.describe()"
   ]
  },
  {
   "cell_type": "code",
   "execution_count": 75,
   "id": "f63ad55e",
   "metadata": {},
   "outputs": [
    {
     "data": {
      "text/html": [
       "<div>\n",
       "<style scoped>\n",
       "    .dataframe tbody tr th:only-of-type {\n",
       "        vertical-align: middle;\n",
       "    }\n",
       "\n",
       "    .dataframe tbody tr th {\n",
       "        vertical-align: top;\n",
       "    }\n",
       "\n",
       "    .dataframe thead th {\n",
       "        text-align: right;\n",
       "    }\n",
       "</style>\n",
       "<table border=\"1\" class=\"dataframe\">\n",
       "  <thead>\n",
       "    <tr style=\"text-align: right;\">\n",
       "      <th></th>\n",
       "      <th>brand_name</th>\n",
       "      <th>os</th>\n",
       "      <th>4g</th>\n",
       "      <th>5g</th>\n",
       "    </tr>\n",
       "  </thead>\n",
       "  <tbody>\n",
       "    <tr>\n",
       "      <th>count</th>\n",
       "      <td>3454</td>\n",
       "      <td>3454</td>\n",
       "      <td>3454</td>\n",
       "      <td>3454</td>\n",
       "    </tr>\n",
       "    <tr>\n",
       "      <th>unique</th>\n",
       "      <td>34</td>\n",
       "      <td>4</td>\n",
       "      <td>2</td>\n",
       "      <td>2</td>\n",
       "    </tr>\n",
       "    <tr>\n",
       "      <th>top</th>\n",
       "      <td>Others</td>\n",
       "      <td>Android</td>\n",
       "      <td>yes</td>\n",
       "      <td>no</td>\n",
       "    </tr>\n",
       "    <tr>\n",
       "      <th>freq</th>\n",
       "      <td>502</td>\n",
       "      <td>3214</td>\n",
       "      <td>2335</td>\n",
       "      <td>3302</td>\n",
       "    </tr>\n",
       "  </tbody>\n",
       "</table>\n",
       "</div>"
      ],
      "text/plain": [
       "       brand_name       os    4g    5g\n",
       "count        3454     3454  3454  3454\n",
       "unique         34        4     2     2\n",
       "top        Others  Android   yes    no\n",
       "freq          502     3214  2335  3302"
      ]
     },
     "execution_count": 75,
     "metadata": {},
     "output_type": "execute_result"
    }
   ],
   "source": [
    "categorical_df.describe()"
   ]
  },
  {
   "cell_type": "code",
   "execution_count": 76,
   "id": "d9adb908",
   "metadata": {},
   "outputs": [
    {
     "data": {
      "text/plain": [
       "count    3454.000000\n",
       "mean       92.302936\n",
       "std        54.701648\n",
       "min         4.650000\n",
       "25%        56.482500\n",
       "50%        81.870000\n",
       "75%       116.245000\n",
       "max       749.520000\n",
       "Name: used_price, dtype: float64"
      ]
     },
     "execution_count": 76,
     "metadata": {},
     "output_type": "execute_result"
    }
   ],
   "source": [
    "numerical_df['used_price'].describe()"
   ]
  },
  {
   "cell_type": "code",
   "execution_count": 77,
   "id": "5c58b1c1",
   "metadata": {},
   "outputs": [
    {
     "data": {
      "text/plain": [
       "4.65"
      ]
     },
     "execution_count": 77,
     "metadata": {},
     "output_type": "execute_result"
    }
   ],
   "source": [
    "numerical_df['used_price'].min()\n",
    "# for i in numerical_df.index:\n",
    "#     if numerical_df.loc[i, \"used_price\"] <= 4.65:\n",
    "#         print(f\"Minimum Used Price: {numerical_df.loc[i, 'used_price']}\")\n",
    "#         print(f\"Int Memory: {numerical_df.loc[i, 'int_memory']}\")\n",
    "#         print(f\"Days Used: {numerical_df.loc[i, 'days_used']}\")\n",
    "#         print(f\"Release Year: {numerical_df.loc[i, 'release_year']}\")"
   ]
  },
  {
   "cell_type": "code",
   "execution_count": 78,
   "id": "e7ddc2f1",
   "metadata": {},
   "outputs": [
    {
     "data": {
      "text/plain": [
       "749.52"
      ]
     },
     "execution_count": 78,
     "metadata": {},
     "output_type": "execute_result"
    }
   ],
   "source": [
    "numerical_df['used_price'].max()\n",
    "# for i in numerical_df.index:\n",
    "#     if numerical_df.loc[i, \"used_price\"] >= 749.52:\n",
    "#         print(f\"Maximum Used Price: {numerical_df.loc[i, 'used_price']}\")\n",
    "#         print(f\"Int Memory: {numerical_df.loc[i, 'int_memory']}\")\n",
    "#         print(f\"Days Used: {numerical_df.loc[i, 'days_used']}\")\n",
    "#         print(f\"Release Year: {numerical_df.loc[i, 'release_year']}\")"
   ]
  },
  {
   "cell_type": "code",
   "execution_count": 79,
   "id": "6050b041",
   "metadata": {},
   "outputs": [
    {
     "data": {
      "text/html": [
       "<div>\n",
       "<style scoped>\n",
       "    .dataframe tbody tr th:only-of-type {\n",
       "        vertical-align: middle;\n",
       "    }\n",
       "\n",
       "    .dataframe tbody tr th {\n",
       "        vertical-align: top;\n",
       "    }\n",
       "\n",
       "    .dataframe thead th {\n",
       "        text-align: right;\n",
       "    }\n",
       "</style>\n",
       "<table border=\"1\" class=\"dataframe\">\n",
       "  <thead>\n",
       "    <tr style=\"text-align: right;\">\n",
       "      <th></th>\n",
       "      <th>screen_size</th>\n",
       "      <th>main_camera_mp</th>\n",
       "      <th>selfie_camera_mp</th>\n",
       "      <th>int_memory</th>\n",
       "      <th>ram</th>\n",
       "      <th>battery</th>\n",
       "      <th>weight</th>\n",
       "      <th>release_year</th>\n",
       "      <th>days_used</th>\n",
       "      <th>used_price</th>\n",
       "    </tr>\n",
       "  </thead>\n",
       "  <tbody>\n",
       "    <tr>\n",
       "      <th>screen_size</th>\n",
       "      <td>1.000000</td>\n",
       "      <td>0.145878</td>\n",
       "      <td>0.271634</td>\n",
       "      <td>0.071096</td>\n",
       "      <td>0.273810</td>\n",
       "      <td>0.811193</td>\n",
       "      <td>0.828741</td>\n",
       "      <td>0.364223</td>\n",
       "      <td>-0.291723</td>\n",
       "      <td>0.529275</td>\n",
       "    </tr>\n",
       "    <tr>\n",
       "      <th>main_camera_mp</th>\n",
       "      <td>0.145878</td>\n",
       "      <td>1.000000</td>\n",
       "      <td>0.388592</td>\n",
       "      <td>0.015353</td>\n",
       "      <td>0.223304</td>\n",
       "      <td>0.236265</td>\n",
       "      <td>-0.087979</td>\n",
       "      <td>0.319700</td>\n",
       "      <td>-0.125645</td>\n",
       "      <td>0.430218</td>\n",
       "    </tr>\n",
       "    <tr>\n",
       "      <th>selfie_camera_mp</th>\n",
       "      <td>0.271634</td>\n",
       "      <td>0.388592</td>\n",
       "      <td>1.000000</td>\n",
       "      <td>0.296271</td>\n",
       "      <td>0.477193</td>\n",
       "      <td>0.369573</td>\n",
       "      <td>-0.005005</td>\n",
       "      <td>0.690817</td>\n",
       "      <td>-0.552535</td>\n",
       "      <td>0.613858</td>\n",
       "    </tr>\n",
       "    <tr>\n",
       "      <th>int_memory</th>\n",
       "      <td>0.071096</td>\n",
       "      <td>0.015353</td>\n",
       "      <td>0.296271</td>\n",
       "      <td>1.000000</td>\n",
       "      <td>0.121856</td>\n",
       "      <td>0.117532</td>\n",
       "      <td>0.014932</td>\n",
       "      <td>0.235249</td>\n",
       "      <td>-0.242502</td>\n",
       "      <td>0.377931</td>\n",
       "    </tr>\n",
       "    <tr>\n",
       "      <th>ram</th>\n",
       "      <td>0.273810</td>\n",
       "      <td>0.223304</td>\n",
       "      <td>0.477193</td>\n",
       "      <td>0.121856</td>\n",
       "      <td>1.000000</td>\n",
       "      <td>0.280136</td>\n",
       "      <td>0.089893</td>\n",
       "      <td>0.313829</td>\n",
       "      <td>-0.279737</td>\n",
       "      <td>0.528986</td>\n",
       "    </tr>\n",
       "    <tr>\n",
       "      <th>battery</th>\n",
       "      <td>0.811193</td>\n",
       "      <td>0.236265</td>\n",
       "      <td>0.369573</td>\n",
       "      <td>0.117532</td>\n",
       "      <td>0.280136</td>\n",
       "      <td>1.000000</td>\n",
       "      <td>0.699586</td>\n",
       "      <td>0.488387</td>\n",
       "      <td>-0.370417</td>\n",
       "      <td>0.549021</td>\n",
       "    </tr>\n",
       "    <tr>\n",
       "      <th>weight</th>\n",
       "      <td>0.828741</td>\n",
       "      <td>-0.087979</td>\n",
       "      <td>-0.005005</td>\n",
       "      <td>0.014932</td>\n",
       "      <td>0.089893</td>\n",
       "      <td>0.699586</td>\n",
       "      <td>1.000000</td>\n",
       "      <td>0.071275</td>\n",
       "      <td>-0.067410</td>\n",
       "      <td>0.357792</td>\n",
       "    </tr>\n",
       "    <tr>\n",
       "      <th>release_year</th>\n",
       "      <td>0.364223</td>\n",
       "      <td>0.319700</td>\n",
       "      <td>0.690817</td>\n",
       "      <td>0.235249</td>\n",
       "      <td>0.313829</td>\n",
       "      <td>0.488387</td>\n",
       "      <td>0.071275</td>\n",
       "      <td>1.000000</td>\n",
       "      <td>-0.750390</td>\n",
       "      <td>0.494910</td>\n",
       "    </tr>\n",
       "    <tr>\n",
       "      <th>days_used</th>\n",
       "      <td>-0.291723</td>\n",
       "      <td>-0.125645</td>\n",
       "      <td>-0.552535</td>\n",
       "      <td>-0.242502</td>\n",
       "      <td>-0.279737</td>\n",
       "      <td>-0.370417</td>\n",
       "      <td>-0.067410</td>\n",
       "      <td>-0.750390</td>\n",
       "      <td>1.000000</td>\n",
       "      <td>-0.385777</td>\n",
       "    </tr>\n",
       "    <tr>\n",
       "      <th>used_price</th>\n",
       "      <td>0.529275</td>\n",
       "      <td>0.430218</td>\n",
       "      <td>0.613858</td>\n",
       "      <td>0.377931</td>\n",
       "      <td>0.528986</td>\n",
       "      <td>0.549021</td>\n",
       "      <td>0.357792</td>\n",
       "      <td>0.494910</td>\n",
       "      <td>-0.385777</td>\n",
       "      <td>1.000000</td>\n",
       "    </tr>\n",
       "  </tbody>\n",
       "</table>\n",
       "</div>"
      ],
      "text/plain": [
       "                  screen_size  main_camera_mp  selfie_camera_mp  int_memory  \\\n",
       "screen_size          1.000000        0.145878          0.271634    0.071096   \n",
       "main_camera_mp       0.145878        1.000000          0.388592    0.015353   \n",
       "selfie_camera_mp     0.271634        0.388592          1.000000    0.296271   \n",
       "int_memory           0.071096        0.015353          0.296271    1.000000   \n",
       "ram                  0.273810        0.223304          0.477193    0.121856   \n",
       "battery              0.811193        0.236265          0.369573    0.117532   \n",
       "weight               0.828741       -0.087979         -0.005005    0.014932   \n",
       "release_year         0.364223        0.319700          0.690817    0.235249   \n",
       "days_used           -0.291723       -0.125645         -0.552535   -0.242502   \n",
       "used_price           0.529275        0.430218          0.613858    0.377931   \n",
       "\n",
       "                       ram   battery    weight  release_year  days_used  \\\n",
       "screen_size       0.273810  0.811193  0.828741      0.364223  -0.291723   \n",
       "main_camera_mp    0.223304  0.236265 -0.087979      0.319700  -0.125645   \n",
       "selfie_camera_mp  0.477193  0.369573 -0.005005      0.690817  -0.552535   \n",
       "int_memory        0.121856  0.117532  0.014932      0.235249  -0.242502   \n",
       "ram               1.000000  0.280136  0.089893      0.313829  -0.279737   \n",
       "battery           0.280136  1.000000  0.699586      0.488387  -0.370417   \n",
       "weight            0.089893  0.699586  1.000000      0.071275  -0.067410   \n",
       "release_year      0.313829  0.488387  0.071275      1.000000  -0.750390   \n",
       "days_used        -0.279737 -0.370417 -0.067410     -0.750390   1.000000   \n",
       "used_price        0.528986  0.549021  0.357792      0.494910  -0.385777   \n",
       "\n",
       "                  used_price  \n",
       "screen_size         0.529275  \n",
       "main_camera_mp      0.430218  \n",
       "selfie_camera_mp    0.613858  \n",
       "int_memory          0.377931  \n",
       "ram                 0.528986  \n",
       "battery             0.549021  \n",
       "weight              0.357792  \n",
       "release_year        0.494910  \n",
       "days_used          -0.385777  \n",
       "used_price          1.000000  "
      ]
     },
     "execution_count": 79,
     "metadata": {},
     "output_type": "execute_result"
    }
   ],
   "source": [
    "# Note: Correlations cannot be perform on Categorical.\n",
    "numerical_df.corr()"
   ]
  },
  {
   "cell_type": "markdown",
   "id": "b6ea516c",
   "metadata": {},
   "source": [
    "# Exploratory Data Analysis\n",
    "- scatter plot\n",
    "\n",
    "__NOTE: Our focus is on the relationship between \"Used Price\" and features with correlation >= 50% positvely or negatively__ \n",
    "        Perhaps, other features have a strong correlation too e.g: __weight & screen size__ , __release year & days used__ and \n",
    "        more.\n"
   ]
  },
  {
   "cell_type": "code",
   "execution_count": 80,
   "id": "89a80cdf",
   "metadata": {},
   "outputs": [
    {
     "data": {
      "image/png": "[encoded data removed]",
      "text/plain": [
       "<Figure size 640x480 with 1 Axes>"
      ]
     },
     "metadata": {},
     "output_type": "display_data"
    }
   ],
   "source": [
    "# Screen size correlation rate: 50%\n",
    "plt.scatter(numerical_df['screen_size'], numerical_df['used_price'])\n",
    "plt.title('Relationship between Screen Size and Used Price of a device')\n",
    "plt.xlabel('Screen Size(inch)')\n",
    "plt.ylabel('Used Price($)')\n",
    "plt.show()"
   ]
  },
  {
   "cell_type": "code",
   "execution_count": 81,
   "id": "d94e2057",
   "metadata": {},
   "outputs": [
    {
     "data": {
      "image/png": "[encoded data removed]",
      "text/plain": [
       "<Figure size 640x480 with 1 Axes>"
      ]
     },
     "metadata": {},
     "output_type": "display_data"
    }
   ],
   "source": [
    "# Selfie camera mp correlation rate: 60%\n",
    "plt.scatter(numerical_df['selfie_camera_mp'], numerical_df['used_price'], c = 'orange', s = 50)\n",
    "plt.title('Relationship between Selfie Camera MP and Used Price of a device')\n",
    "plt.xlabel('Selfie Camera(mp)')\n",
    "plt.ylabel('Used Price($)')\n",
    "plt.show()\n"
   ]
  },
  {
   "cell_type": "code",
   "execution_count": 82,
   "id": "0647f76d",
   "metadata": {},
   "outputs": [
    {
     "data": {
      "image/png": "[encoded data removed]",
      "text/plain": [
       "<Figure size 640x480 with 1 Axes>"
      ]
     },
     "metadata": {},
     "output_type": "display_data"
    }
   ],
   "source": [
    "# RAM correlation rate: 50%\n",
    "plt.scatter(numerical_df['ram'], numerical_df['used_price'], c = 'hotpink')\n",
    "plt.title('Relationship between RAM and Used Price of a device')\n",
    "plt.xlabel('RAM(gb)')\n",
    "plt.ylabel('Used Price($)')\n",
    "plt.show()\n"
   ]
  },
  {
   "cell_type": "code",
   "execution_count": 83,
   "id": "3724e7f2",
   "metadata": {},
   "outputs": [
    {
     "data": {
      "image/png": "[encoded data removed]",
      "text/plain": [
       "<Figure size 640x480 with 1 Axes>"
      ]
     },
     "metadata": {},
     "output_type": "display_data"
    }
   ],
   "source": [
    "# Battery correlation rate: 50%\n",
    "plt.scatter(numerical_df['battery'], numerical_df['used_price'], c = 'green')\n",
    "plt.title('Relationship between Battery and Used Price of a device')\n",
    "plt.xlabel('Battery(watts)')\n",
    "plt.ylabel('Used Price($)')\n",
    "plt.show()\n"
   ]
  },
  {
   "cell_type": "code",
   "execution_count": null,
   "id": "e4fef15f",
   "metadata": {},
   "outputs": [],
   "source": []
  }
 ],
 "metadata": {
  "kernelspec": {
   "display_name": "Python 3 (ipykernel)",
   "language": "python",
   "name": "python3"
  },
  "language_info": {
   "codemirror_mode": {
    "name": "ipython",
    "version": 3
   },
   "file_extension": ".py",
   "mimetype": "text/x-python",
   "name": "python",
   "nbconvert_exporter": "python",
   "pygments_lexer": "ipython3",
   "version": "3.12.2"
  }
 },
 "nbformat": 4,
 "nbformat_minor": 5
}
