{
 "cells": [
  {
   "cell_type": "markdown",
   "id": "7e95b579-240f-4e0b-871f-fc7a36f33550",
   "metadata": {},
   "source": [
    "# Introduction To Numpy"
   ]
  },
  {
   "cell_type": "markdown",
   "id": "fa9fc88e-de61-47cf-b4b0-915a9164615a",
   "metadata": {},
   "source": [
    "## import Libraries"
   ]
  },
  {
   "cell_type": "markdown",
   "id": "0f3197d8-e7f7-4f34-adfa-8bc590083b16",
   "metadata": {},
   "source": [
    "import numpy as np"
   ]
  },
  {
   "cell_type": "code",
   "execution_count": 4,
   "id": "bb58fb11-ccd8-4d36-8b92-a49c0f8bf027",
   "metadata": {},
   "outputs": [
    {
     "name": "stdout",
     "output_type": "stream",
     "text": [
      "[1, 2, 3, 4, 5, 6]\n"
     ]
    }
   ],
   "source": [
    "list = [1, 2, 3, 4, 5, 6]\n",
    "print(list)"
   ]
  },
  {
   "cell_type": "code",
   "execution_count": null,
   "id": "67bb1a8c-951a-45da-97a9-fb2865caf9c3",
   "metadata": {},
   "outputs": [],
   "source": []
  }
 ],
 "metadata": {
  "kernelspec": {
   "display_name": "Python 3 (ipykernel)",
   "language": "python",
   "name": "python3"
  },
  "language_info": {
   "codemirror_mode": {
    "name": "ipython",
    "version": 3
   },
   "file_extension": ".py",
   "mimetype": "text/x-python",
   "name": "python",
   "nbconvert_exporter": "python",
   "pygments_lexer": "ipython3",
   "version": "3.12.2"
  }
 },
 "nbformat": 4,
 "nbformat_minor": 5
}
